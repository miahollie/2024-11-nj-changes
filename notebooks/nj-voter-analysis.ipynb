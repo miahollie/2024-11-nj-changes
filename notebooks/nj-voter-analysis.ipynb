{
 "cells": [
  {
   "cell_type": "markdown",
   "id": "381ee365",
   "metadata": {},
   "source": [
    "## Import Libraries"
   ]
  },
  {
   "cell_type": "code",
   "execution_count": 1,
   "id": "0fd76a28",
   "metadata": {},
   "outputs": [],
   "source": [
    "import geopandas as gpd\n",
    "import matplotlib.pyplot as plt\n",
    "import matplotlib as mpl\n",
    "from sklearn.cluster import KMeans\n",
    "import pandas as pd\n",
    "import requests\n",
    "import glob"
   ]
  },
  {
   "cell_type": "markdown",
   "id": "d3991849",
   "metadata": {},
   "source": [
    "## Basic Information about the dataset\n",
    "\n",
    "Upload the dataset, then use .head() and .info() to gain a general understanding of what's included. "
   ]
  },
  {
   "cell_type": "code",
   "execution_count": 2,
   "id": "eea3d6af",
   "metadata": {},
   "outputs": [],
   "source": [
    "## upload the dataset\n",
    "county_data = pd.read_excel(\"../data/indicators.xlsx\")"
   ]
  },
  {
   "cell_type": "code",
   "execution_count": 3,
   "id": "bbc433a7",
   "metadata": {},
   "outputs": [
    {
     "data": {
      "text/html": [
       "<div>\n",
       "<style scoped>\n",
       "    .dataframe tbody tr th:only-of-type {\n",
       "        vertical-align: middle;\n",
       "    }\n",
       "\n",
       "    .dataframe tbody tr th {\n",
       "        vertical-align: top;\n",
       "    }\n",
       "\n",
       "    .dataframe thead th {\n",
       "        text-align: right;\n",
       "    }\n",
       "</style>\n",
       "<table border=\"1\" class=\"dataframe\">\n",
       "  <thead>\n",
       "    <tr style=\"text-align: right;\">\n",
       "      <th></th>\n",
       "      <th>county</th>\n",
       "      <th>party_dem_2008</th>\n",
       "      <th>party_dem_2012</th>\n",
       "      <th>party_dem_2016</th>\n",
       "      <th>party_dem_2020</th>\n",
       "      <th>party_dem_2024</th>\n",
       "      <th>party_rep_2008</th>\n",
       "      <th>party_rep_2012</th>\n",
       "      <th>party_rep_2016</th>\n",
       "      <th>party_rep_2020</th>\n",
       "      <th>...</th>\n",
       "      <th>mixed_race_2020</th>\n",
       "      <th>population_2024</th>\n",
       "      <th>male_2024</th>\n",
       "      <th>female_2024</th>\n",
       "      <th>older_adults_2024</th>\n",
       "      <th>hispanic_2024</th>\n",
       "      <th>white_2024</th>\n",
       "      <th>black_2024</th>\n",
       "      <th>asian_2024</th>\n",
       "      <th>mixed_race_2024</th>\n",
       "    </tr>\n",
       "  </thead>\n",
       "  <tbody>\n",
       "    <tr>\n",
       "      <th>0</th>\n",
       "      <td>atlantic</td>\n",
       "      <td>52126</td>\n",
       "      <td>50591</td>\n",
       "      <td>56878</td>\n",
       "      <td>72772</td>\n",
       "      <td>69648</td>\n",
       "      <td>42076</td>\n",
       "      <td>41745</td>\n",
       "      <td>44357</td>\n",
       "      <td>54398</td>\n",
       "      <td>...</td>\n",
       "      <td>8234</td>\n",
       "      <td>274339</td>\n",
       "      <td>133897</td>\n",
       "      <td>140442</td>\n",
       "      <td>51456</td>\n",
       "      <td>54178</td>\n",
       "      <td>150753</td>\n",
       "      <td>35485</td>\n",
       "      <td>21120</td>\n",
       "      <td>11210</td>\n",
       "    </tr>\n",
       "    <tr>\n",
       "      <th>1</th>\n",
       "      <td>bergen</td>\n",
       "      <td>171379</td>\n",
       "      <td>170109</td>\n",
       "      <td>201413</td>\n",
       "      <td>258794</td>\n",
       "      <td>256911</td>\n",
       "      <td>111872</td>\n",
       "      <td>111696</td>\n",
       "      <td>123563</td>\n",
       "      <td>145805</td>\n",
       "      <td>...</td>\n",
       "      <td>18237</td>\n",
       "      <td>953243</td>\n",
       "      <td>467592</td>\n",
       "      <td>485651</td>\n",
       "      <td>167276</td>\n",
       "      <td>205545</td>\n",
       "      <td>509075</td>\n",
       "      <td>50172</td>\n",
       "      <td>157669</td>\n",
       "      <td>23583</td>\n",
       "    </tr>\n",
       "    <tr>\n",
       "      <th>2</th>\n",
       "      <td>burlington</td>\n",
       "      <td>91746</td>\n",
       "      <td>94214</td>\n",
       "      <td>110786</td>\n",
       "      <td>136381</td>\n",
       "      <td>143277</td>\n",
       "      <td>65518</td>\n",
       "      <td>67668</td>\n",
       "      <td>75120</td>\n",
       "      <td>87934</td>\n",
       "      <td>...</td>\n",
       "      <td>15514</td>\n",
       "      <td>461853</td>\n",
       "      <td>228468</td>\n",
       "      <td>233385</td>\n",
       "      <td>81197</td>\n",
       "      <td>41114</td>\n",
       "      <td>299166</td>\n",
       "      <td>73251</td>\n",
       "      <td>24967</td>\n",
       "      <td>20108</td>\n",
       "    </tr>\n",
       "    <tr>\n",
       "      <th>3</th>\n",
       "      <td>camden</td>\n",
       "      <td>139147</td>\n",
       "      <td>141099</td>\n",
       "      <td>154353</td>\n",
       "      <td>185839</td>\n",
       "      <td>182680</td>\n",
       "      <td>43669</td>\n",
       "      <td>44438</td>\n",
       "      <td>49000</td>\n",
       "      <td>61164</td>\n",
       "      <td>...</td>\n",
       "      <td>11346</td>\n",
       "      <td>522581</td>\n",
       "      <td>253604</td>\n",
       "      <td>268977</td>\n",
       "      <td>83495</td>\n",
       "      <td>94913</td>\n",
       "      <td>284011</td>\n",
       "      <td>94675</td>\n",
       "      <td>30724</td>\n",
       "      <td>14701</td>\n",
       "    </tr>\n",
       "    <tr>\n",
       "      <th>4</th>\n",
       "      <td>cape may</td>\n",
       "      <td>14405</td>\n",
       "      <td>13798</td>\n",
       "      <td>15661</td>\n",
       "      <td>18930</td>\n",
       "      <td>18501</td>\n",
       "      <td>27638</td>\n",
       "      <td>27402</td>\n",
       "      <td>28107</td>\n",
       "      <td>31740</td>\n",
       "      <td>...</td>\n",
       "      <td>2182</td>\n",
       "      <td>95456</td>\n",
       "      <td>46347</td>\n",
       "      <td>49109</td>\n",
       "      <td>26529</td>\n",
       "      <td>7960</td>\n",
       "      <td>80479</td>\n",
       "      <td>3376</td>\n",
       "      <td>764</td>\n",
       "      <td>2606</td>\n",
       "    </tr>\n",
       "    <tr>\n",
       "      <th>5</th>\n",
       "      <td>cumberland</td>\n",
       "      <td>25684</td>\n",
       "      <td>15427</td>\n",
       "      <td>28023</td>\n",
       "      <td>33770</td>\n",
       "      <td>31910</td>\n",
       "      <td>15472</td>\n",
       "      <td>25500</td>\n",
       "      <td>16689</td>\n",
       "      <td>21424</td>\n",
       "      <td>...</td>\n",
       "      <td>3751</td>\n",
       "      <td>153588</td>\n",
       "      <td>78755</td>\n",
       "      <td>74833</td>\n",
       "      <td>23937</td>\n",
       "      <td>49802</td>\n",
       "      <td>67762</td>\n",
       "      <td>27133</td>\n",
       "      <td>2194</td>\n",
       "      <td>4582</td>\n",
       "    </tr>\n",
       "    <tr>\n",
       "      <th>6</th>\n",
       "      <td>essex</td>\n",
       "      <td>209583</td>\n",
       "      <td>219383</td>\n",
       "      <td>259419</td>\n",
       "      <td>294191</td>\n",
       "      <td>302750</td>\n",
       "      <td>45790</td>\n",
       "      <td>45453</td>\n",
       "      <td>49843</td>\n",
       "      <td>56504</td>\n",
       "      <td>...</td>\n",
       "      <td>17070</td>\n",
       "      <td>853374</td>\n",
       "      <td>414982</td>\n",
       "      <td>438392</td>\n",
       "      <td>117405</td>\n",
       "      <td>204966</td>\n",
       "      <td>242992</td>\n",
       "      <td>312788</td>\n",
       "      <td>48235</td>\n",
       "      <td>30510</td>\n",
       "    </tr>\n",
       "    <tr>\n",
       "      <th>7</th>\n",
       "      <td>gloucester</td>\n",
       "      <td>71782</td>\n",
       "      <td>69900</td>\n",
       "      <td>77790</td>\n",
       "      <td>89628</td>\n",
       "      <td>83702</td>\n",
       "      <td>35397</td>\n",
       "      <td>37239</td>\n",
       "      <td>42898</td>\n",
       "      <td>55460</td>\n",
       "      <td>...</td>\n",
       "      <td>6769</td>\n",
       "      <td>302621</td>\n",
       "      <td>148499</td>\n",
       "      <td>154122</td>\n",
       "      <td>48955</td>\n",
       "      <td>21577</td>\n",
       "      <td>230995</td>\n",
       "      <td>30333</td>\n",
       "      <td>9724</td>\n",
       "      <td>8543</td>\n",
       "    </tr>\n",
       "    <tr>\n",
       "      <th>8</th>\n",
       "      <td>hudson</td>\n",
       "      <td>173890</td>\n",
       "      <td>169160</td>\n",
       "      <td>185409</td>\n",
       "      <td>227028</td>\n",
       "      <td>222270</td>\n",
       "      <td>27230</td>\n",
       "      <td>26972</td>\n",
       "      <td>30471</td>\n",
       "      <td>41780</td>\n",
       "      <td>...</td>\n",
       "      <td>14402</td>\n",
       "      <td>712029</td>\n",
       "      <td>356520</td>\n",
       "      <td>355509</td>\n",
       "      <td>86664</td>\n",
       "      <td>302289</td>\n",
       "      <td>197105</td>\n",
       "      <td>74216</td>\n",
       "      <td>112065</td>\n",
       "      <td>19885</td>\n",
       "    </tr>\n",
       "    <tr>\n",
       "      <th>9</th>\n",
       "      <td>hunterdon</td>\n",
       "      <td>17712</td>\n",
       "      <td>17678</td>\n",
       "      <td>21530</td>\n",
       "      <td>28485</td>\n",
       "      <td>31204</td>\n",
       "      <td>32935</td>\n",
       "      <td>34810</td>\n",
       "      <td>37562</td>\n",
       "      <td>41056</td>\n",
       "      <td>...</td>\n",
       "      <td>1830</td>\n",
       "      <td>129099</td>\n",
       "      <td>63792</td>\n",
       "      <td>65307</td>\n",
       "      <td>25330</td>\n",
       "      <td>9396</td>\n",
       "      <td>107167</td>\n",
       "      <td>3067</td>\n",
       "      <td>5716</td>\n",
       "      <td>3093</td>\n",
       "    </tr>\n",
       "  </tbody>\n",
       "</table>\n",
       "<p>10 rows × 106 columns</p>\n",
       "</div>"
      ],
      "text/plain": [
       "       county  party_dem_2008  party_dem_2012  party_dem_2016  party_dem_2020  \\\n",
       "0    atlantic           52126           50591           56878           72772   \n",
       "1      bergen          171379          170109          201413          258794   \n",
       "2  burlington           91746           94214          110786          136381   \n",
       "3      camden          139147          141099          154353          185839   \n",
       "4    cape may           14405           13798           15661           18930   \n",
       "5  cumberland           25684           15427           28023           33770   \n",
       "6       essex          209583          219383          259419          294191   \n",
       "7  gloucester           71782           69900           77790           89628   \n",
       "8      hudson          173890          169160          185409          227028   \n",
       "9   hunterdon           17712           17678           21530           28485   \n",
       "\n",
       "   party_dem_2024  party_rep_2008  party_rep_2012  party_rep_2016  \\\n",
       "0           69648           42076           41745           44357   \n",
       "1          256911          111872          111696          123563   \n",
       "2          143277           65518           67668           75120   \n",
       "3          182680           43669           44438           49000   \n",
       "4           18501           27638           27402           28107   \n",
       "5           31910           15472           25500           16689   \n",
       "6          302750           45790           45453           49843   \n",
       "7           83702           35397           37239           42898   \n",
       "8          222270           27230           26972           30471   \n",
       "9           31204           32935           34810           37562   \n",
       "\n",
       "   party_rep_2020  ...  mixed_race_2020  population_2024  male_2024  \\\n",
       "0           54398  ...             8234           274339     133897   \n",
       "1          145805  ...            18237           953243     467592   \n",
       "2           87934  ...            15514           461853     228468   \n",
       "3           61164  ...            11346           522581     253604   \n",
       "4           31740  ...             2182            95456      46347   \n",
       "5           21424  ...             3751           153588      78755   \n",
       "6           56504  ...            17070           853374     414982   \n",
       "7           55460  ...             6769           302621     148499   \n",
       "8           41780  ...            14402           712029     356520   \n",
       "9           41056  ...             1830           129099      63792   \n",
       "\n",
       "   female_2024  older_adults_2024  hispanic_2024  white_2024  black_2024  \\\n",
       "0       140442              51456          54178      150753       35485   \n",
       "1       485651             167276         205545      509075       50172   \n",
       "2       233385              81197          41114      299166       73251   \n",
       "3       268977              83495          94913      284011       94675   \n",
       "4        49109              26529           7960       80479        3376   \n",
       "5        74833              23937          49802       67762       27133   \n",
       "6       438392             117405         204966      242992      312788   \n",
       "7       154122              48955          21577      230995       30333   \n",
       "8       355509              86664         302289      197105       74216   \n",
       "9        65307              25330           9396      107167        3067   \n",
       "\n",
       "   asian_2024  mixed_race_2024  \n",
       "0       21120            11210  \n",
       "1      157669            23583  \n",
       "2       24967            20108  \n",
       "3       30724            14701  \n",
       "4         764             2606  \n",
       "5        2194             4582  \n",
       "6       48235            30510  \n",
       "7        9724             8543  \n",
       "8      112065            19885  \n",
       "9        5716             3093  \n",
       "\n",
       "[10 rows x 106 columns]"
      ]
     },
     "execution_count": 3,
     "metadata": {},
     "output_type": "execute_result"
    }
   ],
   "source": [
    "## take a look at the first 10 rows, including the header\n",
    "county_data.head(10)"
   ]
  },
  {
   "cell_type": "code",
   "execution_count": 4,
   "id": "d52a3faa",
   "metadata": {},
   "outputs": [
    {
     "name": "stdout",
     "output_type": "stream",
     "text": [
      "<class 'pandas.core.frame.DataFrame'>\n",
      "RangeIndex: 21 entries, 0 to 20\n",
      "Columns: 106 entries, county to mixed_race_2024\n",
      "dtypes: float64(5), int64(100), object(1)\n",
      "memory usage: 17.5+ KB\n"
     ]
    }
   ],
   "source": [
    "## look at other information related to the dataset\n",
    "county_data.info()"
   ]
  },
  {
   "cell_type": "markdown",
   "id": "d6e145e6",
   "metadata": {},
   "source": [
    "## Clustering preparation\n",
    "\n",
    "Before clustering the data, some of the indicators need to be transformed into rates. Those include:\n",
    "- political-party affiliation\n",
    "- foreign-born population\n",
    "- black, asian and hispanic populations\n",
    "- college-educated population\n",
    "\n",
    "We also need to normalize some columns so that they're also read as rates. Otherwise, the K-means analysis won't work (data needs to be read on a scale of 0-1). Those include:\n",
    "- unemployment rate\n",
    "- median income"
   ]
  },
  {
   "cell_type": "code",
   "execution_count": 5,
   "id": "18bc1fbb",
   "metadata": {},
   "outputs": [],
   "source": [
    "## republican percentages\n",
    "county_data[\"pct_rep_08\"] = county_data[\"party_rep_2008\"]/(county_data[\"party_rep_2008\"] + county_data[\"party_dem_2008\"] + county_data[\"party_none_2008\"])\n",
    "county_data[\"pct_rep_12\"] = county_data[\"party_rep_2012\"]/(county_data[\"party_rep_2012\"] + county_data[\"party_dem_2012\"] + county_data[\"party_none_2012\"])\n",
    "county_data[\"pct_rep_16\"] = county_data[\"party_rep_2016\"]/(county_data[\"party_rep_2016\"] + county_data[\"party_dem_2016\"] + county_data[\"party_none_2016\"])\n",
    "county_data[\"pct_rep_20\"] = county_data[\"party_rep_2020\"]/(county_data[\"party_rep_2020\"] + county_data[\"party_dem_2020\"] + county_data[\"party_none_2020\"])\n",
    "county_data[\"pct_rep_24\"] = county_data[\"party_rep_2024\"]/(county_data[\"party_rep_2024\"] + county_data[\"party_dem_2024\"] + county_data[\"party_none_2024\"])"
   ]
  },
  {
   "cell_type": "code",
   "execution_count": 6,
   "id": "ddc70c8a",
   "metadata": {},
   "outputs": [],
   "source": [
    "## democrat percentages\n",
    "county_data[\"pct_dem_08\"] = county_data[\"party_dem_2008\"]/(county_data[\"party_rep_2008\"] + county_data[\"party_dem_2008\"] + county_data[\"party_none_2008\"])\n",
    "county_data[\"pct_dem_12\"] = county_data[\"party_dem_2012\"]/(county_data[\"party_rep_2012\"] + county_data[\"party_dem_2012\"] + county_data[\"party_none_2012\"])\n",
    "county_data[\"pct_dem_16\"] = county_data[\"party_dem_2016\"]/(county_data[\"party_rep_2016\"] + county_data[\"party_dem_2016\"] + county_data[\"party_none_2016\"])\n",
    "county_data[\"pct_dem_20\"] = county_data[\"party_dem_2020\"]/(county_data[\"party_rep_2020\"] + county_data[\"party_dem_2020\"] + county_data[\"party_none_2020\"])\n",
    "county_data[\"pct_dem_24\"] = county_data[\"party_dem_2024\"]/(county_data[\"party_rep_2024\"] + county_data[\"party_dem_2024\"] + county_data[\"party_none_2024\"])"
   ]
  },
  {
   "cell_type": "code",
   "execution_count": 7,
   "id": "6fb5b1eb",
   "metadata": {},
   "outputs": [],
   "source": [
    "## unaffiliated percentages\n",
    "county_data[\"pct_none_08\"] = county_data[\"party_none_2008\"]/(county_data[\"party_rep_2008\"] + county_data[\"party_dem_2008\"] + county_data[\"party_none_2008\"])\n",
    "county_data[\"pct_none_12\"] = county_data[\"party_none_2012\"]/(county_data[\"party_rep_2012\"] + county_data[\"party_dem_2012\"] + county_data[\"party_none_2012\"])\n",
    "county_data[\"pct_none_16\"] = county_data[\"party_none_2016\"]/(county_data[\"party_rep_2016\"] + county_data[\"party_dem_2016\"] + county_data[\"party_none_2016\"])\n",
    "county_data[\"pct_none_20\"] = county_data[\"party_none_2020\"]/(county_data[\"party_rep_2020\"] + county_data[\"party_dem_2020\"] + county_data[\"party_none_2020\"])\n",
    "county_data[\"pct_none_24\"] = county_data[\"party_none_2024\"]/(county_data[\"party_rep_2024\"] + county_data[\"party_dem_2024\"] + county_data[\"party_none_2024\"])"
   ]
  },
  {
   "cell_type": "code",
   "execution_count": 8,
   "id": "87bd1f07",
   "metadata": {},
   "outputs": [],
   "source": [
    "## foreign-born population percentages\n",
    "county_data[\"pct_foreign_born_08\"] = county_data[\"foreign_born_2008\"]/county_data[\"population_2008\"]\n",
    "county_data[\"pct_foreign_born_12\"] = county_data[\"foreign_born_2012\"]/county_data[\"population_2012\"]\n",
    "county_data[\"pct_foreign_born_16\"] = county_data[\"foreign_born_2016\"]/county_data[\"population_2016\"]\n",
    "county_data[\"pct_foreign_born_20\"] = county_data[\"foreign_born_2020\"]/county_data[\"population_2020\"]\n",
    "county_data[\"pct_foreign_born_24\"] = county_data[\"foreign_born_2024\"]/county_data[\"population_2024\"]"
   ]
  },
  {
   "cell_type": "code",
   "execution_count": 9,
   "id": "bec22f41",
   "metadata": {},
   "outputs": [],
   "source": [
    "## black population percentages\n",
    "county_data[\"pct_black_08\"] = county_data[\"black_2008\"]/(county_data[\"population_2008\"])\n",
    "county_data[\"pct_black_12\"] = county_data[\"black_2012\"]/(county_data[\"population_2012\"])\n",
    "county_data[\"pct_black_16\"] = county_data[\"black_2016\"]/(county_data[\"population_2016\"])\n",
    "county_data[\"pct_black_20\"] = county_data[\"black_2020\"]/(county_data[\"population_2020\"])\n",
    "county_data[\"pct_black_24\"] = county_data[\"black_2024\"]/(county_data[\"population_2024\"])"
   ]
  },
  {
   "cell_type": "code",
   "execution_count": 10,
   "id": "b77e82e8",
   "metadata": {},
   "outputs": [],
   "source": [
    "## asian population\n",
    "county_data[\"pct_asian_08\"] = county_data[\"asian_2008\"]/(county_data[\"population_2008\"])\n",
    "county_data[\"pct_asian_12\"] = county_data[\"asian_2012\"]/(county_data[\"population_2012\"])\n",
    "county_data[\"pct_asian_16\"] = county_data[\"asian_2016\"]/(county_data[\"population_2016\"])\n",
    "county_data[\"pct_asian_20\"] = county_data[\"asian_2020\"]/(county_data[\"population_2020\"])\n",
    "county_data[\"pct_asian_24\"] = county_data[\"asian_2024\"]/(county_data[\"population_2024\"])"
   ]
  },
  {
   "cell_type": "code",
   "execution_count": 11,
   "id": "4e7d9b26",
   "metadata": {},
   "outputs": [],
   "source": [
    "## hispanic population\n",
    "county_data[\"pct_hispanic_08\"] = county_data[\"hispanic_2008\"]/(county_data[\"population_2008\"])\n",
    "county_data[\"pct_hispanic_12\"] = county_data[\"hispanic_2012\"]/(county_data[\"population_2012\"])\n",
    "county_data[\"pct_hispanic_16\"] = county_data[\"hispanic_2016\"]/(county_data[\"population_2016\"])\n",
    "county_data[\"pct_hispanic_20\"] = county_data[\"hispanic_2020\"]/(county_data[\"population_2020\"])\n",
    "county_data[\"pct_hispanic_24\"] = county_data[\"hispanic_2024\"]/(county_data[\"population_2024\"])"
   ]
  },
  {
   "cell_type": "code",
   "execution_count": 12,
   "id": "1facf874",
   "metadata": {},
   "outputs": [],
   "source": [
    "## college-educated population\n",
    "county_data[\"pct_college_08\"] = county_data[\"college_degree_2008\"]/(county_data[\"population_2008\"])\n",
    "county_data[\"pct_college_12\"] = county_data[\"college_degree_2012\"]/(county_data[\"population_2012\"])\n",
    "county_data[\"pct_college_16\"] = county_data[\"college_degree_2016\"]/(county_data[\"population_2016\"])\n",
    "county_data[\"pct_college_20\"] = county_data[\"college_degree_2020\"]/(county_data[\"population_2020\"])\n",
    "county_data[\"pct_college_24\"] = county_data[\"college_degree_2024\"]/(county_data[\"population_2024\"])"
   ]
  },
  {
   "cell_type": "code",
   "execution_count": 13,
   "id": "e3805821",
   "metadata": {},
   "outputs": [],
   "source": [
    "## normalizing unemployment rates\n",
    "county_data[\"unemployed_08\"] = county_data[\"unemployed_rate_2008\"]/100\n",
    "county_data[\"unemployed_12\"] = county_data[\"unemployed_rate_2012\"]/100\n",
    "county_data[\"unemployed_16\"] = county_data[\"unemployed_rate_2016\"]/100\n",
    "county_data[\"unemployed_20\"] = county_data[\"unemployed_rate_2020\"]/100\n",
    "county_data[\"unemployed_24\"] = county_data[\"unemployed_rate_2024\"]/100"
   ]
  },
  {
   "cell_type": "code",
   "execution_count": 14,
   "id": "4a577126",
   "metadata": {},
   "outputs": [],
   "source": [
    "## normalizing median income\n",
    "county_data[\"income_08\"] = county_data[\"median_income_2008\"]/county_data[\"median_income_2008\"].max()\n",
    "county_data[\"income_12\"] = county_data[\"median_income_2012\"]/county_data[\"median_income_2012\"].max()\n",
    "county_data[\"income_16\"] = county_data[\"median_income_2016\"]/county_data[\"median_income_2016\"].max()\n",
    "county_data[\"income_20\"] = county_data[\"median_income_2020\"]/county_data[\"median_income_2020\"].max()\n",
    "county_data[\"income_24\"] = county_data[\"median_income_2024\"]/county_data[\"median_income_2024\"].max()"
   ]
  },
  {
   "cell_type": "markdown",
   "id": "d6b07404",
   "metadata": {},
   "source": [
    "## Mapping\n",
    "\n",
    "Merge the above dataset with a geojson file of new jersey counties."
   ]
  },
  {
   "cell_type": "code",
   "execution_count": 15,
   "id": "2c1505a6",
   "metadata": {},
   "outputs": [
    {
     "name": "stderr",
     "output_type": "stream",
     "text": [
      "/Users/miahollie/anaconda3/lib/python3.11/site-packages/pyogrio/raw.py:198: RuntimeWarning: ../data/counties/NJ_Counties_3424.shp contains polygon(s) with rings with invalid winding order. Autocorrecting them, but that shapefile should be corrected using ogr2ogr for example.\n",
      "  return ogr_read(\n"
     ]
    }
   ],
   "source": [
    "## read in county shapefiles\n",
    "counties = gpd.read_file(\"../data/counties\")"
   ]
  },
  {
   "cell_type": "code",
   "execution_count": 16,
   "id": "a7313092",
   "metadata": {},
   "outputs": [
    {
     "data": {
      "text/plain": [
       "<Projected CRS: EPSG:3424>\n",
       "Name: NAD83 / New Jersey (ftUS)\n",
       "Axis Info [cartesian]:\n",
       "- X[east]: Easting (US survey foot)\n",
       "- Y[north]: Northing (US survey foot)\n",
       "Area of Use:\n",
       "- name: United States (USA) - New Jersey - counties of Atlantic; Bergen; Burlington; Camden; Cape May; Cumberland; Essex; Gloucester; Hudson; Hunterdon; Mercer; Middlesex; Monmouth; Morris; Ocean; Passaic; Salem; Somerset; Sussex; Union; Warren.\n",
       "- bounds: (-75.6, 38.87, -73.88, 41.36)\n",
       "Coordinate Operation:\n",
       "- name: SPCS83 New Jersey zone (US survey foot)\n",
       "- method: Transverse Mercator\n",
       "Datum: North American Datum 1983\n",
       "- Ellipsoid: GRS 1980\n",
       "- Prime Meridian: Greenwich"
      ]
     },
     "execution_count": 16,
     "metadata": {},
     "output_type": "execute_result"
    }
   ],
   "source": [
    "## check for the correct CRS\n",
    "counties.crs"
   ]
  },
  {
   "cell_type": "code",
   "execution_count": 17,
   "id": "4cb5ffc9",
   "metadata": {},
   "outputs": [
    {
     "name": "stdout",
     "output_type": "stream",
     "text": [
      "<class 'geopandas.geodataframe.GeoDataFrame'>\n"
     ]
    }
   ],
   "source": [
    "## just checking to make sure it's a geodataframe\n",
    "print(type(counties))"
   ]
  },
  {
   "cell_type": "code",
   "execution_count": 18,
   "id": "d8ec53d0",
   "metadata": {},
   "outputs": [],
   "source": [
    "## changing county names to lower case so that we can join this file with the original dataset\n",
    "counties[\"COUNTY\"] = counties[\"COUNTY\"].str.lower()"
   ]
  },
  {
   "cell_type": "code",
   "execution_count": 19,
   "id": "fc72a00b",
   "metadata": {},
   "outputs": [],
   "source": [
    "## join both datasets\n",
    "combined = pd.merge(\n",
    "    county_data,\n",
    "    counties,\n",
    "    left_on = \"county\",\n",
    "    right_on = \"COUNTY\"\n",
    ")"
   ]
  },
  {
   "cell_type": "code",
   "execution_count": 20,
   "id": "6fd6d366",
   "metadata": {},
   "outputs": [
    {
     "name": "stdout",
     "output_type": "stream",
     "text": [
      "<class 'pandas.core.frame.DataFrame'>\n"
     ]
    }
   ],
   "source": [
    "## check the dataframe type again\n",
    "## we'll need to change it into a geodataframe\n",
    "print(type(combined))"
   ]
  },
  {
   "cell_type": "code",
   "execution_count": 21,
   "id": "0f68883b",
   "metadata": {},
   "outputs": [],
   "source": [
    "## turn into GeoDataFrame\n",
    "combined_geo = gpd.GeoDataFrame(\n",
    "    combined,\n",
    "    geometry= combined.geometry,\n",
    "    crs=\"EPSG:3424\")"
   ]
  },
  {
   "cell_type": "code",
   "execution_count": 22,
   "id": "3185d557",
   "metadata": {},
   "outputs": [
    {
     "name": "stdout",
     "output_type": "stream",
     "text": [
      "<class 'geopandas.geodataframe.GeoDataFrame'>\n"
     ]
    }
   ],
   "source": [
    "## checking the dataframe type again\n",
    "print(type(combined_geo))"
   ]
  },
  {
   "cell_type": "markdown",
   "id": "348f9a0c",
   "metadata": {},
   "source": [
    "## Kmeans analysis\n",
    "\n",
    "The following analysis seeks to answer the following questions: how do NJ counties relate to each other? How have those relations changed over time? \n",
    "\n",
    "We can do a K-means analysis to group the state's 23 counties according to the various indicators we've collected. We can do this by performing a K-means analysis for each election year. \n",
    "\n",
    "By the end of the analysis, we'll have grouping that can be compared to elections results data. "
   ]
  },
  {
   "cell_type": "markdown",
   "id": "6ef3931f",
   "metadata": {},
   "source": [
    "### 2008"
   ]
  },
  {
   "cell_type": "code",
   "execution_count": 23,
   "id": "d5bd0b11",
   "metadata": {},
   "outputs": [],
   "source": [
    "## identify the indicators we want to analyze\n",
    "features_2008 = [\n",
    "    'pct_college_08',\n",
    "    'pct_hispanic_08',\n",
    "    'pct_black_08',\n",
    "    'pct_asian_08',\n",
    "    'pct_rep_08',\n",
    "    'pct_dem_08',\n",
    "    'pct_none_08',\n",
    "    'pct_foreign_born_08',\n",
    "    'unemployed_08',\n",
    "    'income_08'\n",
    "]"
   ]
  },
  {
   "cell_type": "code",
   "execution_count": 24,
   "id": "e4277eaa",
   "metadata": {},
   "outputs": [],
   "source": [
    "## create an empty array to write the kmeans to\n",
    "inertias = []"
   ]
  },
  {
   "cell_type": "code",
   "execution_count": 25,
   "id": "6041618d",
   "metadata": {},
   "outputs": [
    {
     "name": "stderr",
     "output_type": "stream",
     "text": [
      "/Users/miahollie/anaconda3/lib/python3.11/site-packages/sklearn/cluster/_kmeans.py:1412: FutureWarning: The default value of `n_init` will change from 10 to 'auto' in 1.4. Set the value of `n_init` explicitly to suppress the warning\n",
      "  super()._check_params_vs_input(X, default_n_init=10)\n",
      "/Users/miahollie/anaconda3/lib/python3.11/site-packages/sklearn/cluster/_kmeans.py:1412: FutureWarning: The default value of `n_init` will change from 10 to 'auto' in 1.4. Set the value of `n_init` explicitly to suppress the warning\n",
      "  super()._check_params_vs_input(X, default_n_init=10)\n",
      "/Users/miahollie/anaconda3/lib/python3.11/site-packages/sklearn/cluster/_kmeans.py:1412: FutureWarning: The default value of `n_init` will change from 10 to 'auto' in 1.4. Set the value of `n_init` explicitly to suppress the warning\n",
      "  super()._check_params_vs_input(X, default_n_init=10)\n",
      "/Users/miahollie/anaconda3/lib/python3.11/site-packages/sklearn/cluster/_kmeans.py:1412: FutureWarning: The default value of `n_init` will change from 10 to 'auto' in 1.4. Set the value of `n_init` explicitly to suppress the warning\n",
      "  super()._check_params_vs_input(X, default_n_init=10)\n",
      "/Users/miahollie/anaconda3/lib/python3.11/site-packages/sklearn/cluster/_kmeans.py:1412: FutureWarning: The default value of `n_init` will change from 10 to 'auto' in 1.4. Set the value of `n_init` explicitly to suppress the warning\n",
      "  super()._check_params_vs_input(X, default_n_init=10)\n",
      "/Users/miahollie/anaconda3/lib/python3.11/site-packages/sklearn/cluster/_kmeans.py:1412: FutureWarning: The default value of `n_init` will change from 10 to 'auto' in 1.4. Set the value of `n_init` explicitly to suppress the warning\n",
      "  super()._check_params_vs_input(X, default_n_init=10)\n",
      "/Users/miahollie/anaconda3/lib/python3.11/site-packages/sklearn/cluster/_kmeans.py:1412: FutureWarning: The default value of `n_init` will change from 10 to 'auto' in 1.4. Set the value of `n_init` explicitly to suppress the warning\n",
      "  super()._check_params_vs_input(X, default_n_init=10)\n",
      "/Users/miahollie/anaconda3/lib/python3.11/site-packages/sklearn/cluster/_kmeans.py:1412: FutureWarning: The default value of `n_init` will change from 10 to 'auto' in 1.4. Set the value of `n_init` explicitly to suppress the warning\n",
      "  super()._check_params_vs_input(X, default_n_init=10)\n",
      "/Users/miahollie/anaconda3/lib/python3.11/site-packages/sklearn/cluster/_kmeans.py:1412: FutureWarning: The default value of `n_init` will change from 10 to 'auto' in 1.4. Set the value of `n_init` explicitly to suppress the warning\n",
      "  super()._check_params_vs_input(X, default_n_init=10)\n"
     ]
    }
   ],
   "source": [
    "for i in range(1,10): # <-- loop through...\n",
    "    kmeans = KMeans(n_clusters=i) # <-- assign every \"i\" in the loop to n_clusters, perform kmeans on each\n",
    "    kmeans.fit(combined_geo[features_2008]) # <-- fit the model to each feature\n",
    "    inertias.append(kmeans.inertia_) # <-- measure how well the dataset was clustered by kmeans"
   ]
  },
  {
   "cell_type": "code",
   "execution_count": 26,
   "id": "604ea938",
   "metadata": {},
   "outputs": [
    {
     "data": {
      "image/png": "[encoded data removed]",
      "text/plain": [
       "<Figure size 640x480 with 1 Axes>"
      ]
     },
     "metadata": {},
     "output_type": "display_data"
    }
   ],
   "source": [
    "## plot the clusters and their inertia\n",
    "## use the 'elbow' method to find where the line starts to even out\n",
    "plt.plot(range(1,10), inertias, marker='o')\n",
    "plt.title('Clusters vs. Inertia 2008')\n",
    "plt.show()"
   ]
  },
  {
   "cell_type": "code",
   "execution_count": 27,
   "id": "8086da50",
   "metadata": {},
   "outputs": [
    {
     "name": "stderr",
     "output_type": "stream",
     "text": [
      "/Users/miahollie/anaconda3/lib/python3.11/site-packages/sklearn/cluster/_kmeans.py:1412: FutureWarning: The default value of `n_init` will change from 10 to 'auto' in 1.4. Set the value of `n_init` explicitly to suppress the warning\n",
      "  super()._check_params_vs_input(X, default_n_init=10)\n"
     ]
    },
    {
     "data": {
      "text/html": [
       "<style>#sk-container-id-1 {color: black;}#sk-container-id-1 pre{padding: 0;}#sk-container-id-1 div.sk-toggleable {background-color: white;}#sk-container-id-1 label.sk-toggleable__label {cursor: pointer;display: block;width: 100%;margin-bottom: 0;padding: 0.3em;box-sizing: border-box;text-align: center;}#sk-container-id-1 label.sk-toggleable__label-arrow:before {content: \"▸\";float: left;margin-right: 0.25em;color: #696969;}#sk-container-id-1 label.sk-toggleable__label-arrow:hover:before {color: black;}#sk-container-id-1 div.sk-estimator:hover label.sk-toggleable__label-arrow:before {color: black;}#sk-container-id-1 div.sk-toggleable__content {max-height: 0;max-width: 0;overflow: hidden;text-align: left;background-color: #f0f8ff;}#sk-container-id-1 div.sk-toggleable__content pre {margin: 0.2em;color: black;border-radius: 0.25em;background-color: #f0f8ff;}#sk-container-id-1 input.sk-toggleable__control:checked~div.sk-toggleable__content {max-height: 200px;max-width: 100%;overflow: auto;}#sk-container-id-1 input.sk-toggleable__control:checked~label.sk-toggleable__label-arrow:before {content: \"▾\";}#sk-container-id-1 div.sk-estimator input.sk-toggleable__control:checked~label.sk-toggleable__label {background-color: #d4ebff;}#sk-container-id-1 div.sk-label input.sk-toggleable__control:checked~label.sk-toggleable__label {background-color: #d4ebff;}#sk-container-id-1 input.sk-hidden--visually {border: 0;clip: rect(1px 1px 1px 1px);clip: rect(1px, 1px, 1px, 1px);height: 1px;margin: -1px;overflow: hidden;padding: 0;position: absolute;width: 1px;}#sk-container-id-1 div.sk-estimator {font-family: monospace;background-color: #f0f8ff;border: 1px dotted black;border-radius: 0.25em;box-sizing: border-box;margin-bottom: 0.5em;}#sk-container-id-1 div.sk-estimator:hover {background-color: #d4ebff;}#sk-container-id-1 div.sk-parallel-item::after {content: \"\";width: 100%;border-bottom: 1px solid gray;flex-grow: 1;}#sk-container-id-1 div.sk-label:hover label.sk-toggleable__label {background-color: #d4ebff;}#sk-container-id-1 div.sk-serial::before {content: \"\";position: absolute;border-left: 1px solid gray;box-sizing: border-box;top: 0;bottom: 0;left: 50%;z-index: 0;}#sk-container-id-1 div.sk-serial {display: flex;flex-direction: column;align-items: center;background-color: white;padding-right: 0.2em;padding-left: 0.2em;position: relative;}#sk-container-id-1 div.sk-item {position: relative;z-index: 1;}#sk-container-id-1 div.sk-parallel {display: flex;align-items: stretch;justify-content: center;background-color: white;position: relative;}#sk-container-id-1 div.sk-item::before, #sk-container-id-1 div.sk-parallel-item::before {content: \"\";position: absolute;border-left: 1px solid gray;box-sizing: border-box;top: 0;bottom: 0;left: 50%;z-index: -1;}#sk-container-id-1 div.sk-parallel-item {display: flex;flex-direction: column;z-index: 1;position: relative;background-color: white;}#sk-container-id-1 div.sk-parallel-item:first-child::after {align-self: flex-end;width: 50%;}#sk-container-id-1 div.sk-parallel-item:last-child::after {align-self: flex-start;width: 50%;}#sk-container-id-1 div.sk-parallel-item:only-child::after {width: 0;}#sk-container-id-1 div.sk-dashed-wrapped {border: 1px dashed gray;margin: 0 0.4em 0.5em 0.4em;box-sizing: border-box;padding-bottom: 0.4em;background-color: white;}#sk-container-id-1 div.sk-label label {font-family: monospace;font-weight: bold;display: inline-block;line-height: 1.2em;}#sk-container-id-1 div.sk-label-container {text-align: center;}#sk-container-id-1 div.sk-container {/* jupyter's `normalize.less` sets `[hidden] { display: none; }` but bootstrap.min.css set `[hidden] { display: none !important; }` so we also need the `!important` here to be able to override the default hidden behavior on the sphinx rendered scikit-learn.org. See: https://github.com/scikit-learn/scikit-learn/issues/21755 */display: inline-block !important;position: relative;}#sk-container-id-1 div.sk-text-repr-fallback {display: none;}</style><div id=\"sk-container-id-1\" class=\"sk-top-container\"><div class=\"sk-text-repr-fallback\"><pre>KMeans(n_clusters=6, random_state=42)</pre><b>In a Jupyter environment, please rerun this cell to show the HTML representation or trust the notebook. <br />On GitHub, the HTML representation is unable to render, please try loading this page with nbviewer.org.</b></div><div class=\"sk-container\" hidden><div class=\"sk-item\"><div class=\"sk-estimator sk-toggleable\"><input class=\"sk-toggleable__control sk-hidden--visually\" id=\"sk-estimator-id-1\" type=\"checkbox\" checked><label for=\"sk-estimator-id-1\" class=\"sk-toggleable__label sk-toggleable__label-arrow\">KMeans</label><div class=\"sk-toggleable__content\"><pre>KMeans(n_clusters=6, random_state=42)</pre></div></div></div></div></div>"
      ],
      "text/plain": [
       "KMeans(n_clusters=6, random_state=42)"
      ]
     },
     "execution_count": 27,
     "metadata": {},
     "output_type": "execute_result"
    }
   ],
   "source": [
    "## the line started to even out around 6\n",
    "kmeans = KMeans(n_clusters=6, random_state=42) # <-- create 6 clusters, use a random state\n",
    "kmeans.fit(combined_geo[features_2008]) # <-- fit the model to the '08 features"
   ]
  },
  {
   "cell_type": "code",
   "execution_count": 28,
   "id": "c9653b0d",
   "metadata": {},
   "outputs": [],
   "source": [
    "## create a new column to store the kmeans labels\n",
    "combined_geo['kmeans_label_08'] = kmeans.labels_"
   ]
  },
  {
   "cell_type": "code",
   "execution_count": 29,
   "id": "13ea415e",
   "metadata": {},
   "outputs": [
    {
     "data": {
      "text/plain": [
       "kmeans_label_08\n",
       "1    6\n",
       "0    4\n",
       "4    4\n",
       "5    3\n",
       "3    3\n",
       "2    1\n",
       "Name: count, dtype: int64"
      ]
     },
     "execution_count": 29,
     "metadata": {},
     "output_type": "execute_result"
    }
   ],
   "source": [
    "## count the number of counties in each kmeans category\n",
    "combined_geo['kmeans_label_08'].value_counts()"
   ]
  },
  {
   "cell_type": "code",
   "execution_count": 30,
   "id": "6e1d3336",
   "metadata": {},
   "outputs": [
    {
     "data": {
      "text/plain": [
       "<Axes: >"
      ]
     },
     "execution_count": 30,
     "metadata": {},
     "output_type": "execute_result"
    },
    {
     "data": {
      "image/png": "[encoded data removed]",
      "text/plain": [
       "<Figure size 640x480 with 2 Axes>"
      ]
     },
     "metadata": {},
     "output_type": "display_data"
    }
   ],
   "source": [
    "## plot the kmeans labels on the counties map we created earlier\n",
    "combined_geo.plot(\n",
    "    column = \"kmeans_label_08\",\n",
    "    cmap = \"Paired\",\n",
    "    legend = True)"
   ]
  },
  {
   "cell_type": "code",
   "execution_count": 31,
   "id": "4374b6ee",
   "metadata": {},
   "outputs": [
    {
     "data": {
      "text/html": [
       "<div>\n",
       "<style scoped>\n",
       "    .dataframe tbody tr th:only-of-type {\n",
       "        vertical-align: middle;\n",
       "    }\n",
       "\n",
       "    .dataframe tbody tr th {\n",
       "        vertical-align: top;\n",
       "    }\n",
       "\n",
       "    .dataframe thead th {\n",
       "        text-align: right;\n",
       "    }\n",
       "</style>\n",
       "<table border=\"1\" class=\"dataframe\">\n",
       "  <thead>\n",
       "    <tr style=\"text-align: right;\">\n",
       "      <th>kmeans_label_08</th>\n",
       "      <th>0</th>\n",
       "      <th>1</th>\n",
       "      <th>2</th>\n",
       "      <th>3</th>\n",
       "      <th>4</th>\n",
       "      <th>5</th>\n",
       "    </tr>\n",
       "  </thead>\n",
       "  <tbody>\n",
       "    <tr>\n",
       "      <th>pct_college_08</th>\n",
       "      <td>0.176138</td>\n",
       "      <td>0.122134</td>\n",
       "      <td>0.154743</td>\n",
       "      <td>0.177823</td>\n",
       "      <td>0.127344</td>\n",
       "      <td>0.094783</td>\n",
       "    </tr>\n",
       "    <tr>\n",
       "      <th>pct_hispanic_08</th>\n",
       "      <td>0.134621</td>\n",
       "      <td>0.060584</td>\n",
       "      <td>0.418718</td>\n",
       "      <td>0.072506</td>\n",
       "      <td>0.182036</td>\n",
       "      <td>0.256870</td>\n",
       "    </tr>\n",
       "    <tr>\n",
       "      <th>pct_black_08</th>\n",
       "      <td>0.073547</td>\n",
       "      <td>0.082984</td>\n",
       "      <td>0.117334</td>\n",
       "      <td>0.023462</td>\n",
       "      <td>0.245681</td>\n",
       "      <td>0.151718</td>\n",
       "    </tr>\n",
       "    <tr>\n",
       "      <th>pct_asian_08</th>\n",
       "      <td>0.132085</td>\n",
       "      <td>0.020329</td>\n",
       "      <td>0.127573</td>\n",
       "      <td>0.045195</td>\n",
       "      <td>0.055971</td>\n",
       "      <td>0.045391</td>\n",
       "    </tr>\n",
       "    <tr>\n",
       "      <th>pct_rep_08</th>\n",
       "      <td>0.202284</td>\n",
       "      <td>0.272015</td>\n",
       "      <td>0.079169</td>\n",
       "      <td>0.367481</td>\n",
       "      <td>0.131612</td>\n",
       "      <td>0.196522</td>\n",
       "    </tr>\n",
       "    <tr>\n",
       "      <th>pct_dem_08</th>\n",
       "      <td>0.300691</td>\n",
       "      <td>0.274888</td>\n",
       "      <td>0.505572</td>\n",
       "      <td>0.197151</td>\n",
       "      <td>0.417077</td>\n",
       "      <td>0.295107</td>\n",
       "    </tr>\n",
       "    <tr>\n",
       "      <th>pct_none_08</th>\n",
       "      <td>0.497025</td>\n",
       "      <td>0.453097</td>\n",
       "      <td>0.415259</td>\n",
       "      <td>0.435368</td>\n",
       "      <td>0.451311</td>\n",
       "      <td>0.508372</td>\n",
       "    </tr>\n",
       "    <tr>\n",
       "      <th>pct_foreign_born_08</th>\n",
       "      <td>0.231776</td>\n",
       "      <td>0.063494</td>\n",
       "      <td>0.406137</td>\n",
       "      <td>0.110779</td>\n",
       "      <td>0.205541</td>\n",
       "      <td>0.176916</td>\n",
       "    </tr>\n",
       "    <tr>\n",
       "      <th>unemployed_08</th>\n",
       "      <td>0.045250</td>\n",
       "      <td>0.058167</td>\n",
       "      <td>0.062000</td>\n",
       "      <td>0.041667</td>\n",
       "      <td>0.056500</td>\n",
       "      <td>0.071000</td>\n",
       "    </tr>\n",
       "    <tr>\n",
       "      <th>income_08</th>\n",
       "      <td>0.839344</td>\n",
       "      <td>0.649698</td>\n",
       "      <td>0.547386</td>\n",
       "      <td>0.926969</td>\n",
       "      <td>0.629107</td>\n",
       "      <td>0.529349</td>\n",
       "    </tr>\n",
       "  </tbody>\n",
       "</table>\n",
       "</div>"
      ],
      "text/plain": [
       "kmeans_label_08             0         1         2         3         4  \\\n",
       "pct_college_08       0.176138  0.122134  0.154743  0.177823  0.127344   \n",
       "pct_hispanic_08      0.134621  0.060584  0.418718  0.072506  0.182036   \n",
       "pct_black_08         0.073547  0.082984  0.117334  0.023462  0.245681   \n",
       "pct_asian_08         0.132085  0.020329  0.127573  0.045195  0.055971   \n",
       "pct_rep_08           0.202284  0.272015  0.079169  0.367481  0.131612   \n",
       "pct_dem_08           0.300691  0.274888  0.505572  0.197151  0.417077   \n",
       "pct_none_08          0.497025  0.453097  0.415259  0.435368  0.451311   \n",
       "pct_foreign_born_08  0.231776  0.063494  0.406137  0.110779  0.205541   \n",
       "unemployed_08        0.045250  0.058167  0.062000  0.041667  0.056500   \n",
       "income_08            0.839344  0.649698  0.547386  0.926969  0.629107   \n",
       "\n",
       "kmeans_label_08             5  \n",
       "pct_college_08       0.094783  \n",
       "pct_hispanic_08      0.256870  \n",
       "pct_black_08         0.151718  \n",
       "pct_asian_08         0.045391  \n",
       "pct_rep_08           0.196522  \n",
       "pct_dem_08           0.295107  \n",
       "pct_none_08          0.508372  \n",
       "pct_foreign_born_08  0.176916  \n",
       "unemployed_08        0.071000  \n",
       "income_08            0.529349  "
      ]
     },
     "execution_count": 31,
     "metadata": {},
     "output_type": "execute_result"
    }
   ],
   "source": [
    "## find the average kmeans of all counties in each category\n",
    "cluster_feature_averages_08 = combined_geo.groupby('kmeans_label_08')[features_2008].mean().T\n",
    "cluster_feature_averages_08"
   ]
  },
  {
   "cell_type": "code",
   "execution_count": 32,
   "id": "8a542d10",
   "metadata": {},
   "outputs": [
    {
     "data": {
      "text/html": [
       "<div>\n",
       "<style scoped>\n",
       "    .dataframe tbody tr th:only-of-type {\n",
       "        vertical-align: middle;\n",
       "    }\n",
       "\n",
       "    .dataframe tbody tr th {\n",
       "        vertical-align: top;\n",
       "    }\n",
       "\n",
       "    .dataframe thead th {\n",
       "        text-align: right;\n",
       "    }\n",
       "</style>\n",
       "<table border=\"1\" class=\"dataframe\">\n",
       "  <thead>\n",
       "    <tr style=\"text-align: right;\">\n",
       "      <th>kmeans_label_08</th>\n",
       "      <th>0</th>\n",
       "      <th>1</th>\n",
       "      <th>2</th>\n",
       "      <th>3</th>\n",
       "      <th>4</th>\n",
       "      <th>5</th>\n",
       "      <th>variance</th>\n",
       "    </tr>\n",
       "  </thead>\n",
       "  <tbody>\n",
       "    <tr>\n",
       "      <th>income_08</th>\n",
       "      <td>0.839344</td>\n",
       "      <td>0.649698</td>\n",
       "      <td>0.547386</td>\n",
       "      <td>0.926969</td>\n",
       "      <td>0.629107</td>\n",
       "      <td>0.529349</td>\n",
       "      <td>0.025977</td>\n",
       "    </tr>\n",
       "    <tr>\n",
       "      <th>pct_hispanic_08</th>\n",
       "      <td>0.134621</td>\n",
       "      <td>0.060584</td>\n",
       "      <td>0.418718</td>\n",
       "      <td>0.072506</td>\n",
       "      <td>0.182036</td>\n",
       "      <td>0.256870</td>\n",
       "      <td>0.018086</td>\n",
       "    </tr>\n",
       "    <tr>\n",
       "      <th>pct_foreign_born_08</th>\n",
       "      <td>0.231776</td>\n",
       "      <td>0.063494</td>\n",
       "      <td>0.406137</td>\n",
       "      <td>0.110779</td>\n",
       "      <td>0.205541</td>\n",
       "      <td>0.176916</td>\n",
       "      <td>0.014131</td>\n",
       "    </tr>\n",
       "    <tr>\n",
       "      <th>pct_dem_08</th>\n",
       "      <td>0.300691</td>\n",
       "      <td>0.274888</td>\n",
       "      <td>0.505572</td>\n",
       "      <td>0.197151</td>\n",
       "      <td>0.417077</td>\n",
       "      <td>0.295107</td>\n",
       "      <td>0.012231</td>\n",
       "    </tr>\n",
       "    <tr>\n",
       "      <th>pct_rep_08</th>\n",
       "      <td>0.202284</td>\n",
       "      <td>0.272015</td>\n",
       "      <td>0.079169</td>\n",
       "      <td>0.367481</td>\n",
       "      <td>0.131612</td>\n",
       "      <td>0.196522</td>\n",
       "      <td>0.010426</td>\n",
       "    </tr>\n",
       "    <tr>\n",
       "      <th>pct_black_08</th>\n",
       "      <td>0.073547</td>\n",
       "      <td>0.082984</td>\n",
       "      <td>0.117334</td>\n",
       "      <td>0.023462</td>\n",
       "      <td>0.245681</td>\n",
       "      <td>0.151718</td>\n",
       "      <td>0.005910</td>\n",
       "    </tr>\n",
       "    <tr>\n",
       "      <th>pct_asian_08</th>\n",
       "      <td>0.132085</td>\n",
       "      <td>0.020329</td>\n",
       "      <td>0.127573</td>\n",
       "      <td>0.045195</td>\n",
       "      <td>0.055971</td>\n",
       "      <td>0.045391</td>\n",
       "      <td>0.002209</td>\n",
       "    </tr>\n",
       "    <tr>\n",
       "      <th>pct_none_08</th>\n",
       "      <td>0.497025</td>\n",
       "      <td>0.453097</td>\n",
       "      <td>0.415259</td>\n",
       "      <td>0.435368</td>\n",
       "      <td>0.451311</td>\n",
       "      <td>0.508372</td>\n",
       "      <td>0.001288</td>\n",
       "    </tr>\n",
       "    <tr>\n",
       "      <th>pct_college_08</th>\n",
       "      <td>0.176138</td>\n",
       "      <td>0.122134</td>\n",
       "      <td>0.154743</td>\n",
       "      <td>0.177823</td>\n",
       "      <td>0.127344</td>\n",
       "      <td>0.094783</td>\n",
       "      <td>0.001090</td>\n",
       "    </tr>\n",
       "    <tr>\n",
       "      <th>unemployed_08</th>\n",
       "      <td>0.045250</td>\n",
       "      <td>0.058167</td>\n",
       "      <td>0.062000</td>\n",
       "      <td>0.041667</td>\n",
       "      <td>0.056500</td>\n",
       "      <td>0.071000</td>\n",
       "      <td>0.000117</td>\n",
       "    </tr>\n",
       "  </tbody>\n",
       "</table>\n",
       "</div>"
      ],
      "text/plain": [
       "kmeans_label_08             0         1         2         3         4  \\\n",
       "income_08            0.839344  0.649698  0.547386  0.926969  0.629107   \n",
       "pct_hispanic_08      0.134621  0.060584  0.418718  0.072506  0.182036   \n",
       "pct_foreign_born_08  0.231776  0.063494  0.406137  0.110779  0.205541   \n",
       "pct_dem_08           0.300691  0.274888  0.505572  0.197151  0.417077   \n",
       "pct_rep_08           0.202284  0.272015  0.079169  0.367481  0.131612   \n",
       "pct_black_08         0.073547  0.082984  0.117334  0.023462  0.245681   \n",
       "pct_asian_08         0.132085  0.020329  0.127573  0.045195  0.055971   \n",
       "pct_none_08          0.497025  0.453097  0.415259  0.435368  0.451311   \n",
       "pct_college_08       0.176138  0.122134  0.154743  0.177823  0.127344   \n",
       "unemployed_08        0.045250  0.058167  0.062000  0.041667  0.056500   \n",
       "\n",
       "kmeans_label_08             5  variance  \n",
       "income_08            0.529349  0.025977  \n",
       "pct_hispanic_08      0.256870  0.018086  \n",
       "pct_foreign_born_08  0.176916  0.014131  \n",
       "pct_dem_08           0.295107  0.012231  \n",
       "pct_rep_08           0.196522  0.010426  \n",
       "pct_black_08         0.151718  0.005910  \n",
       "pct_asian_08         0.045391  0.002209  \n",
       "pct_none_08          0.508372  0.001288  \n",
       "pct_college_08       0.094783  0.001090  \n",
       "unemployed_08        0.071000  0.000117  "
      ]
     },
     "execution_count": 32,
     "metadata": {},
     "output_type": "execute_result"
    }
   ],
   "source": [
    "## find how much each of the groupings averages vary according to individual kmeans averages\n",
    "cluster_feature_averages_08['variance'] = cluster_feature_averages_08.apply(lambda x: x.var(), axis=1)\n",
    "cluster_feature_averages_08.sort_values('variance', ascending = False)"
   ]
  },
  {
   "cell_type": "markdown",
   "id": "50430d17",
   "metadata": {},
   "source": [
    "### 2012"
   ]
  },
  {
   "cell_type": "code",
   "execution_count": 33,
   "id": "6da9f7fa",
   "metadata": {},
   "outputs": [],
   "source": [
    "## identify the indicators we want to analyze\n",
    "features_2012 = [\n",
    "    'pct_college_12',\n",
    "    'pct_hispanic_12',\n",
    "    'pct_black_12',\n",
    "    'pct_asian_12',\n",
    "    'pct_rep_12',\n",
    "    'pct_dem_12',\n",
    "    'pct_none_12',\n",
    "    'pct_foreign_born_12',\n",
    "    'unemployed_12',\n",
    "    'income_12'\n",
    "]"
   ]
  },
  {
   "cell_type": "code",
   "execution_count": 34,
   "id": "b4558a05",
   "metadata": {},
   "outputs": [],
   "source": [
    "## create an empty array to write the kmeans to\n",
    "inertias = []"
   ]
  },
  {
   "cell_type": "code",
   "execution_count": 35,
   "id": "2b2d864b",
   "metadata": {},
   "outputs": [
    {
     "name": "stderr",
     "output_type": "stream",
     "text": [
      "/Users/miahollie/anaconda3/lib/python3.11/site-packages/sklearn/cluster/_kmeans.py:1412: FutureWarning: The default value of `n_init` will change from 10 to 'auto' in 1.4. Set the value of `n_init` explicitly to suppress the warning\n",
      "  super()._check_params_vs_input(X, default_n_init=10)\n",
      "/Users/miahollie/anaconda3/lib/python3.11/site-packages/sklearn/cluster/_kmeans.py:1412: FutureWarning: The default value of `n_init` will change from 10 to 'auto' in 1.4. Set the value of `n_init` explicitly to suppress the warning\n",
      "  super()._check_params_vs_input(X, default_n_init=10)\n",
      "/Users/miahollie/anaconda3/lib/python3.11/site-packages/sklearn/cluster/_kmeans.py:1412: FutureWarning: The default value of `n_init` will change from 10 to 'auto' in 1.4. Set the value of `n_init` explicitly to suppress the warning\n",
      "  super()._check_params_vs_input(X, default_n_init=10)\n",
      "/Users/miahollie/anaconda3/lib/python3.11/site-packages/sklearn/cluster/_kmeans.py:1412: FutureWarning: The default value of `n_init` will change from 10 to 'auto' in 1.4. Set the value of `n_init` explicitly to suppress the warning\n",
      "  super()._check_params_vs_input(X, default_n_init=10)\n",
      "/Users/miahollie/anaconda3/lib/python3.11/site-packages/sklearn/cluster/_kmeans.py:1412: FutureWarning: The default value of `n_init` will change from 10 to 'auto' in 1.4. Set the value of `n_init` explicitly to suppress the warning\n",
      "  super()._check_params_vs_input(X, default_n_init=10)\n",
      "/Users/miahollie/anaconda3/lib/python3.11/site-packages/sklearn/cluster/_kmeans.py:1412: FutureWarning: The default value of `n_init` will change from 10 to 'auto' in 1.4. Set the value of `n_init` explicitly to suppress the warning\n",
      "  super()._check_params_vs_input(X, default_n_init=10)\n",
      "/Users/miahollie/anaconda3/lib/python3.11/site-packages/sklearn/cluster/_kmeans.py:1412: FutureWarning: The default value of `n_init` will change from 10 to 'auto' in 1.4. Set the value of `n_init` explicitly to suppress the warning\n",
      "  super()._check_params_vs_input(X, default_n_init=10)\n",
      "/Users/miahollie/anaconda3/lib/python3.11/site-packages/sklearn/cluster/_kmeans.py:1412: FutureWarning: The default value of `n_init` will change from 10 to 'auto' in 1.4. Set the value of `n_init` explicitly to suppress the warning\n",
      "  super()._check_params_vs_input(X, default_n_init=10)\n",
      "/Users/miahollie/anaconda3/lib/python3.11/site-packages/sklearn/cluster/_kmeans.py:1412: FutureWarning: The default value of `n_init` will change from 10 to 'auto' in 1.4. Set the value of `n_init` explicitly to suppress the warning\n",
      "  super()._check_params_vs_input(X, default_n_init=10)\n"
     ]
    }
   ],
   "source": [
    "for i in range(1,10): # <-- loop through...\n",
    "    kmeans = KMeans(n_clusters=i) # <-- assign every \"i\" in the loop to n_clusters, perform kmeans on each\n",
    "    kmeans.fit(combined_geo[features_2012]) # <-- fit the model to each feature\n",
    "    inertias.append(kmeans.inertia_) # <-- measure how well the dataset was clustered by kmeans"
   ]
  },
  {
   "cell_type": "code",
   "execution_count": 36,
   "id": "c6b298bf",
   "metadata": {},
   "outputs": [
    {
     "data": {
      "image/png": "[encoded data removed]",
      "text/plain": [
       "<Figure size 640x480 with 1 Axes>"
      ]
     },
     "metadata": {},
     "output_type": "display_data"
    }
   ],
   "source": [
    "## plot the clusters and their inertia\n",
    "## use the 'elbow' method to find where the line starts to even out\n",
    "plt.plot(range(1,10), inertias, marker='o')\n",
    "plt.title('Clusters vs. Inertia 2012')\n",
    "plt.show()"
   ]
  },
  {
   "cell_type": "code",
   "execution_count": 37,
   "id": "5813ed91",
   "metadata": {},
   "outputs": [
    {
     "name": "stderr",
     "output_type": "stream",
     "text": [
      "/Users/miahollie/anaconda3/lib/python3.11/site-packages/sklearn/cluster/_kmeans.py:1412: FutureWarning: The default value of `n_init` will change from 10 to 'auto' in 1.4. Set the value of `n_init` explicitly to suppress the warning\n",
      "  super()._check_params_vs_input(X, default_n_init=10)\n"
     ]
    },
    {
     "data": {
      "text/html": [
       "<style>#sk-container-id-2 {color: black;}#sk-container-id-2 pre{padding: 0;}#sk-container-id-2 div.sk-toggleable {background-color: white;}#sk-container-id-2 label.sk-toggleable__label {cursor: pointer;display: block;width: 100%;margin-bottom: 0;padding: 0.3em;box-sizing: border-box;text-align: center;}#sk-container-id-2 label.sk-toggleable__label-arrow:before {content: \"▸\";float: left;margin-right: 0.25em;color: #696969;}#sk-container-id-2 label.sk-toggleable__label-arrow:hover:before {color: black;}#sk-container-id-2 div.sk-estimator:hover label.sk-toggleable__label-arrow:before {color: black;}#sk-container-id-2 div.sk-toggleable__content {max-height: 0;max-width: 0;overflow: hidden;text-align: left;background-color: #f0f8ff;}#sk-container-id-2 div.sk-toggleable__content pre {margin: 0.2em;color: black;border-radius: 0.25em;background-color: #f0f8ff;}#sk-container-id-2 input.sk-toggleable__control:checked~div.sk-toggleable__content {max-height: 200px;max-width: 100%;overflow: auto;}#sk-container-id-2 input.sk-toggleable__control:checked~label.sk-toggleable__label-arrow:before {content: \"▾\";}#sk-container-id-2 div.sk-estimator input.sk-toggleable__control:checked~label.sk-toggleable__label {background-color: #d4ebff;}#sk-container-id-2 div.sk-label input.sk-toggleable__control:checked~label.sk-toggleable__label {background-color: #d4ebff;}#sk-container-id-2 input.sk-hidden--visually {border: 0;clip: rect(1px 1px 1px 1px);clip: rect(1px, 1px, 1px, 1px);height: 1px;margin: -1px;overflow: hidden;padding: 0;position: absolute;width: 1px;}#sk-container-id-2 div.sk-estimator {font-family: monospace;background-color: #f0f8ff;border: 1px dotted black;border-radius: 0.25em;box-sizing: border-box;margin-bottom: 0.5em;}#sk-container-id-2 div.sk-estimator:hover {background-color: #d4ebff;}#sk-container-id-2 div.sk-parallel-item::after {content: \"\";width: 100%;border-bottom: 1px solid gray;flex-grow: 1;}#sk-container-id-2 div.sk-label:hover label.sk-toggleable__label {background-color: #d4ebff;}#sk-container-id-2 div.sk-serial::before {content: \"\";position: absolute;border-left: 1px solid gray;box-sizing: border-box;top: 0;bottom: 0;left: 50%;z-index: 0;}#sk-container-id-2 div.sk-serial {display: flex;flex-direction: column;align-items: center;background-color: white;padding-right: 0.2em;padding-left: 0.2em;position: relative;}#sk-container-id-2 div.sk-item {position: relative;z-index: 1;}#sk-container-id-2 div.sk-parallel {display: flex;align-items: stretch;justify-content: center;background-color: white;position: relative;}#sk-container-id-2 div.sk-item::before, #sk-container-id-2 div.sk-parallel-item::before {content: \"\";position: absolute;border-left: 1px solid gray;box-sizing: border-box;top: 0;bottom: 0;left: 50%;z-index: -1;}#sk-container-id-2 div.sk-parallel-item {display: flex;flex-direction: column;z-index: 1;position: relative;background-color: white;}#sk-container-id-2 div.sk-parallel-item:first-child::after {align-self: flex-end;width: 50%;}#sk-container-id-2 div.sk-parallel-item:last-child::after {align-self: flex-start;width: 50%;}#sk-container-id-2 div.sk-parallel-item:only-child::after {width: 0;}#sk-container-id-2 div.sk-dashed-wrapped {border: 1px dashed gray;margin: 0 0.4em 0.5em 0.4em;box-sizing: border-box;padding-bottom: 0.4em;background-color: white;}#sk-container-id-2 div.sk-label label {font-family: monospace;font-weight: bold;display: inline-block;line-height: 1.2em;}#sk-container-id-2 div.sk-label-container {text-align: center;}#sk-container-id-2 div.sk-container {/* jupyter's `normalize.less` sets `[hidden] { display: none; }` but bootstrap.min.css set `[hidden] { display: none !important; }` so we also need the `!important` here to be able to override the default hidden behavior on the sphinx rendered scikit-learn.org. See: https://github.com/scikit-learn/scikit-learn/issues/21755 */display: inline-block !important;position: relative;}#sk-container-id-2 div.sk-text-repr-fallback {display: none;}</style><div id=\"sk-container-id-2\" class=\"sk-top-container\"><div class=\"sk-text-repr-fallback\"><pre>KMeans(n_clusters=6, random_state=42)</pre><b>In a Jupyter environment, please rerun this cell to show the HTML representation or trust the notebook. <br />On GitHub, the HTML representation is unable to render, please try loading this page with nbviewer.org.</b></div><div class=\"sk-container\" hidden><div class=\"sk-item\"><div class=\"sk-estimator sk-toggleable\"><input class=\"sk-toggleable__control sk-hidden--visually\" id=\"sk-estimator-id-2\" type=\"checkbox\" checked><label for=\"sk-estimator-id-2\" class=\"sk-toggleable__label sk-toggleable__label-arrow\">KMeans</label><div class=\"sk-toggleable__content\"><pre>KMeans(n_clusters=6, random_state=42)</pre></div></div></div></div></div>"
      ],
      "text/plain": [
       "KMeans(n_clusters=6, random_state=42)"
      ]
     },
     "execution_count": 37,
     "metadata": {},
     "output_type": "execute_result"
    }
   ],
   "source": [
    "## the line started to even out around 6\n",
    "kmeans = KMeans(n_clusters=6, random_state=42) # <-- create 6 clusters, use a random state\n",
    "kmeans.fit(combined_geo[features_2012]) # <-- fit the model to the '12 features"
   ]
  },
  {
   "cell_type": "code",
   "execution_count": 38,
   "id": "4cf92b3d",
   "metadata": {},
   "outputs": [],
   "source": [
    "## create a new column to store the kmeans labels\n",
    "combined_geo['kmeans_label_12'] = kmeans.labels_"
   ]
  },
  {
   "cell_type": "code",
   "execution_count": 39,
   "id": "5ad0a5d2",
   "metadata": {},
   "outputs": [
    {
     "data": {
      "text/plain": [
       "kmeans_label_12\n",
       "2    4\n",
       "5    4\n",
       "1    4\n",
       "0    4\n",
       "4    3\n",
       "3    2\n",
       "Name: count, dtype: int64"
      ]
     },
     "execution_count": 39,
     "metadata": {},
     "output_type": "execute_result"
    }
   ],
   "source": [
    "## count the number of counties in each kmeans category\n",
    "combined_geo['kmeans_label_12'].value_counts()"
   ]
  },
  {
   "cell_type": "code",
   "execution_count": 40,
   "id": "7deb5442",
   "metadata": {},
   "outputs": [
    {
     "data": {
      "text/plain": [
       "<Axes: >"
      ]
     },
     "execution_count": 40,
     "metadata": {},
     "output_type": "execute_result"
    },
    {
     "data": {
      "image/png": "[encoded data removed]",
      "text/plain": [
       "<Figure size 640x480 with 2 Axes>"
      ]
     },
     "metadata": {},
     "output_type": "display_data"
    }
   ],
   "source": [
    "## plot the kmeans labels on the counties map we created earlier\n",
    "combined_geo.plot(\n",
    "    column = \"kmeans_label_12\",\n",
    "    cmap = \"Paired\",\n",
    "    legend = True)"
   ]
  },
  {
   "cell_type": "code",
   "execution_count": 41,
   "id": "39539316",
   "metadata": {},
   "outputs": [
    {
     "data": {
      "text/html": [
       "<div>\n",
       "<style scoped>\n",
       "    .dataframe tbody tr th:only-of-type {\n",
       "        vertical-align: middle;\n",
       "    }\n",
       "\n",
       "    .dataframe tbody tr th {\n",
       "        vertical-align: top;\n",
       "    }\n",
       "\n",
       "    .dataframe thead th {\n",
       "        text-align: right;\n",
       "    }\n",
       "</style>\n",
       "<table border=\"1\" class=\"dataframe\">\n",
       "  <thead>\n",
       "    <tr style=\"text-align: right;\">\n",
       "      <th>kmeans_label_12</th>\n",
       "      <th>0</th>\n",
       "      <th>1</th>\n",
       "      <th>2</th>\n",
       "      <th>3</th>\n",
       "      <th>4</th>\n",
       "      <th>5</th>\n",
       "    </tr>\n",
       "  </thead>\n",
       "  <tbody>\n",
       "    <tr>\n",
       "      <th>pct_college_12</th>\n",
       "      <td>0.169595</td>\n",
       "      <td>0.128664</td>\n",
       "      <td>0.106137</td>\n",
       "      <td>0.136012</td>\n",
       "      <td>0.183969</td>\n",
       "      <td>0.135588</td>\n",
       "    </tr>\n",
       "    <tr>\n",
       "      <th>pct_hispanic_12</th>\n",
       "      <td>0.076068</td>\n",
       "      <td>0.192800</td>\n",
       "      <td>0.145530</td>\n",
       "      <td>0.396493</td>\n",
       "      <td>0.158398</td>\n",
       "      <td>0.069331</td>\n",
       "    </tr>\n",
       "    <tr>\n",
       "      <th>pct_black_12</th>\n",
       "      <td>0.027168</td>\n",
       "      <td>0.243999</td>\n",
       "      <td>0.103250</td>\n",
       "      <td>0.112840</td>\n",
       "      <td>0.074874</td>\n",
       "      <td>0.115652</td>\n",
       "    </tr>\n",
       "    <tr>\n",
       "      <th>pct_asian_12</th>\n",
       "      <td>0.041205</td>\n",
       "      <td>0.058085</td>\n",
       "      <td>0.028660</td>\n",
       "      <td>0.092332</td>\n",
       "      <td>0.168268</td>\n",
       "      <td>0.032615</td>\n",
       "    </tr>\n",
       "    <tr>\n",
       "      <th>pct_rep_12</th>\n",
       "      <td>0.369188</td>\n",
       "      <td>0.127304</td>\n",
       "      <td>0.298525</td>\n",
       "      <td>0.128744</td>\n",
       "      <td>0.192794</td>\n",
       "      <td>0.214393</td>\n",
       "    </tr>\n",
       "    <tr>\n",
       "      <th>pct_dem_12</th>\n",
       "      <td>0.194847</td>\n",
       "      <td>0.408742</td>\n",
       "      <td>0.213876</td>\n",
       "      <td>0.410850</td>\n",
       "      <td>0.307504</td>\n",
       "      <td>0.303575</td>\n",
       "    </tr>\n",
       "    <tr>\n",
       "      <th>pct_none_12</th>\n",
       "      <td>0.435965</td>\n",
       "      <td>0.463954</td>\n",
       "      <td>0.487600</td>\n",
       "      <td>0.460406</td>\n",
       "      <td>0.499702</td>\n",
       "      <td>0.482031</td>\n",
       "    </tr>\n",
       "    <tr>\n",
       "      <th>pct_foreign_born_12</th>\n",
       "      <td>0.107479</td>\n",
       "      <td>0.210358</td>\n",
       "      <td>0.097970</td>\n",
       "      <td>0.341135</td>\n",
       "      <td>0.274634</td>\n",
       "      <td>0.079224</td>\n",
       "    </tr>\n",
       "    <tr>\n",
       "      <th>unemployed_12</th>\n",
       "      <td>0.079500</td>\n",
       "      <td>0.098500</td>\n",
       "      <td>0.130500</td>\n",
       "      <td>0.100000</td>\n",
       "      <td>0.079667</td>\n",
       "      <td>0.099000</td>\n",
       "    </tr>\n",
       "    <tr>\n",
       "      <th>income_12</th>\n",
       "      <td>0.855738</td>\n",
       "      <td>0.614972</td>\n",
       "      <td>0.527713</td>\n",
       "      <td>0.549027</td>\n",
       "      <td>0.825677</td>\n",
       "      <td>0.701799</td>\n",
       "    </tr>\n",
       "  </tbody>\n",
       "</table>\n",
       "</div>"
      ],
      "text/plain": [
       "kmeans_label_12             0         1         2         3         4  \\\n",
       "pct_college_12       0.169595  0.128664  0.106137  0.136012  0.183969   \n",
       "pct_hispanic_12      0.076068  0.192800  0.145530  0.396493  0.158398   \n",
       "pct_black_12         0.027168  0.243999  0.103250  0.112840  0.074874   \n",
       "pct_asian_12         0.041205  0.058085  0.028660  0.092332  0.168268   \n",
       "pct_rep_12           0.369188  0.127304  0.298525  0.128744  0.192794   \n",
       "pct_dem_12           0.194847  0.408742  0.213876  0.410850  0.307504   \n",
       "pct_none_12          0.435965  0.463954  0.487600  0.460406  0.499702   \n",
       "pct_foreign_born_12  0.107479  0.210358  0.097970  0.341135  0.274634   \n",
       "unemployed_12        0.079500  0.098500  0.130500  0.100000  0.079667   \n",
       "income_12            0.855738  0.614972  0.527713  0.549027  0.825677   \n",
       "\n",
       "kmeans_label_12             5  \n",
       "pct_college_12       0.135588  \n",
       "pct_hispanic_12      0.069331  \n",
       "pct_black_12         0.115652  \n",
       "pct_asian_12         0.032615  \n",
       "pct_rep_12           0.214393  \n",
       "pct_dem_12           0.303575  \n",
       "pct_none_12          0.482031  \n",
       "pct_foreign_born_12  0.079224  \n",
       "unemployed_12        0.099000  \n",
       "income_12            0.701799  "
      ]
     },
     "execution_count": 41,
     "metadata": {},
     "output_type": "execute_result"
    }
   ],
   "source": [
    "cluster_feature_averages_12 = combined_geo.groupby('kmeans_label_12')[features_2012].mean().T\n",
    "cluster_feature_averages_12"
   ]
  },
  {
   "cell_type": "code",
   "execution_count": 42,
   "id": "b634988e",
   "metadata": {},
   "outputs": [
    {
     "data": {
      "text/html": [
       "<div>\n",
       "<style scoped>\n",
       "    .dataframe tbody tr th:only-of-type {\n",
       "        vertical-align: middle;\n",
       "    }\n",
       "\n",
       "    .dataframe tbody tr th {\n",
       "        vertical-align: top;\n",
       "    }\n",
       "\n",
       "    .dataframe thead th {\n",
       "        text-align: right;\n",
       "    }\n",
       "</style>\n",
       "<table border=\"1\" class=\"dataframe\">\n",
       "  <thead>\n",
       "    <tr style=\"text-align: right;\">\n",
       "      <th>kmeans_label_12</th>\n",
       "      <th>0</th>\n",
       "      <th>1</th>\n",
       "      <th>2</th>\n",
       "      <th>3</th>\n",
       "      <th>4</th>\n",
       "      <th>5</th>\n",
       "      <th>variance</th>\n",
       "    </tr>\n",
       "  </thead>\n",
       "  <tbody>\n",
       "    <tr>\n",
       "      <th>income_12</th>\n",
       "      <td>0.855738</td>\n",
       "      <td>0.614972</td>\n",
       "      <td>0.527713</td>\n",
       "      <td>0.549027</td>\n",
       "      <td>0.825677</td>\n",
       "      <td>0.701799</td>\n",
       "      <td>0.019430</td>\n",
       "    </tr>\n",
       "    <tr>\n",
       "      <th>pct_hispanic_12</th>\n",
       "      <td>0.076068</td>\n",
       "      <td>0.192800</td>\n",
       "      <td>0.145530</td>\n",
       "      <td>0.396493</td>\n",
       "      <td>0.158398</td>\n",
       "      <td>0.069331</td>\n",
       "      <td>0.014290</td>\n",
       "    </tr>\n",
       "    <tr>\n",
       "      <th>pct_foreign_born_12</th>\n",
       "      <td>0.107479</td>\n",
       "      <td>0.210358</td>\n",
       "      <td>0.097970</td>\n",
       "      <td>0.341135</td>\n",
       "      <td>0.274634</td>\n",
       "      <td>0.079224</td>\n",
       "      <td>0.011566</td>\n",
       "    </tr>\n",
       "    <tr>\n",
       "      <th>pct_rep_12</th>\n",
       "      <td>0.369188</td>\n",
       "      <td>0.127304</td>\n",
       "      <td>0.298525</td>\n",
       "      <td>0.128744</td>\n",
       "      <td>0.192794</td>\n",
       "      <td>0.214393</td>\n",
       "      <td>0.009219</td>\n",
       "    </tr>\n",
       "    <tr>\n",
       "      <th>pct_dem_12</th>\n",
       "      <td>0.194847</td>\n",
       "      <td>0.408742</td>\n",
       "      <td>0.213876</td>\n",
       "      <td>0.410850</td>\n",
       "      <td>0.307504</td>\n",
       "      <td>0.303575</td>\n",
       "      <td>0.008480</td>\n",
       "    </tr>\n",
       "    <tr>\n",
       "      <th>pct_black_12</th>\n",
       "      <td>0.027168</td>\n",
       "      <td>0.243999</td>\n",
       "      <td>0.103250</td>\n",
       "      <td>0.112840</td>\n",
       "      <td>0.074874</td>\n",
       "      <td>0.115652</td>\n",
       "      <td>0.005217</td>\n",
       "    </tr>\n",
       "    <tr>\n",
       "      <th>pct_asian_12</th>\n",
       "      <td>0.041205</td>\n",
       "      <td>0.058085</td>\n",
       "      <td>0.028660</td>\n",
       "      <td>0.092332</td>\n",
       "      <td>0.168268</td>\n",
       "      <td>0.032615</td>\n",
       "      <td>0.002847</td>\n",
       "    </tr>\n",
       "    <tr>\n",
       "      <th>pct_college_12</th>\n",
       "      <td>0.169595</td>\n",
       "      <td>0.128664</td>\n",
       "      <td>0.106137</td>\n",
       "      <td>0.136012</td>\n",
       "      <td>0.183969</td>\n",
       "      <td>0.135588</td>\n",
       "      <td>0.000811</td>\n",
       "    </tr>\n",
       "    <tr>\n",
       "      <th>pct_none_12</th>\n",
       "      <td>0.435965</td>\n",
       "      <td>0.463954</td>\n",
       "      <td>0.487600</td>\n",
       "      <td>0.460406</td>\n",
       "      <td>0.499702</td>\n",
       "      <td>0.482031</td>\n",
       "      <td>0.000522</td>\n",
       "    </tr>\n",
       "    <tr>\n",
       "      <th>unemployed_12</th>\n",
       "      <td>0.079500</td>\n",
       "      <td>0.098500</td>\n",
       "      <td>0.130500</td>\n",
       "      <td>0.100000</td>\n",
       "      <td>0.079667</td>\n",
       "      <td>0.099000</td>\n",
       "      <td>0.000348</td>\n",
       "    </tr>\n",
       "  </tbody>\n",
       "</table>\n",
       "</div>"
      ],
      "text/plain": [
       "kmeans_label_12             0         1         2         3         4  \\\n",
       "income_12            0.855738  0.614972  0.527713  0.549027  0.825677   \n",
       "pct_hispanic_12      0.076068  0.192800  0.145530  0.396493  0.158398   \n",
       "pct_foreign_born_12  0.107479  0.210358  0.097970  0.341135  0.274634   \n",
       "pct_rep_12           0.369188  0.127304  0.298525  0.128744  0.192794   \n",
       "pct_dem_12           0.194847  0.408742  0.213876  0.410850  0.307504   \n",
       "pct_black_12         0.027168  0.243999  0.103250  0.112840  0.074874   \n",
       "pct_asian_12         0.041205  0.058085  0.028660  0.092332  0.168268   \n",
       "pct_college_12       0.169595  0.128664  0.106137  0.136012  0.183969   \n",
       "pct_none_12          0.435965  0.463954  0.487600  0.460406  0.499702   \n",
       "unemployed_12        0.079500  0.098500  0.130500  0.100000  0.079667   \n",
       "\n",
       "kmeans_label_12             5  variance  \n",
       "income_12            0.701799  0.019430  \n",
       "pct_hispanic_12      0.069331  0.014290  \n",
       "pct_foreign_born_12  0.079224  0.011566  \n",
       "pct_rep_12           0.214393  0.009219  \n",
       "pct_dem_12           0.303575  0.008480  \n",
       "pct_black_12         0.115652  0.005217  \n",
       "pct_asian_12         0.032615  0.002847  \n",
       "pct_college_12       0.135588  0.000811  \n",
       "pct_none_12          0.482031  0.000522  \n",
       "unemployed_12        0.099000  0.000348  "
      ]
     },
     "execution_count": 42,
     "metadata": {},
     "output_type": "execute_result"
    }
   ],
   "source": [
    "## how do the various clusters vary across each row?\n",
    "cluster_feature_averages_12['variance'] = cluster_feature_averages_12.apply(lambda x: x.var(), axis=1)\n",
    "cluster_feature_averages_12.sort_values('variance', ascending = False)"
   ]
  },
  {
   "cell_type": "markdown",
   "id": "4c733626",
   "metadata": {},
   "source": [
    "### 2016"
   ]
  },
  {
   "cell_type": "code",
   "execution_count": 43,
   "id": "ae1529d7",
   "metadata": {},
   "outputs": [],
   "source": [
    "## identify the indicators we want to analyze\n",
    "features_2016 = [\n",
    "    'pct_college_16',\n",
    "    'pct_hispanic_16',\n",
    "    'pct_black_16',\n",
    "    'pct_asian_16',\n",
    "    'pct_rep_16',\n",
    "    'pct_dem_16',\n",
    "    'pct_none_16',\n",
    "    'pct_foreign_born_16',\n",
    "    'unemployed_16',\n",
    "    'income_16'\n",
    "]"
   ]
  },
  {
   "cell_type": "code",
   "execution_count": 44,
   "id": "f2ad0c69",
   "metadata": {},
   "outputs": [],
   "source": [
    "## create an empty array to write the kmeans to\n",
    "inertias = []"
   ]
  },
  {
   "cell_type": "code",
   "execution_count": 45,
   "id": "9e7933a8",
   "metadata": {},
   "outputs": [
    {
     "name": "stderr",
     "output_type": "stream",
     "text": [
      "/Users/miahollie/anaconda3/lib/python3.11/site-packages/sklearn/cluster/_kmeans.py:1412: FutureWarning: The default value of `n_init` will change from 10 to 'auto' in 1.4. Set the value of `n_init` explicitly to suppress the warning\n",
      "  super()._check_params_vs_input(X, default_n_init=10)\n",
      "/Users/miahollie/anaconda3/lib/python3.11/site-packages/sklearn/cluster/_kmeans.py:1412: FutureWarning: The default value of `n_init` will change from 10 to 'auto' in 1.4. Set the value of `n_init` explicitly to suppress the warning\n",
      "  super()._check_params_vs_input(X, default_n_init=10)\n",
      "/Users/miahollie/anaconda3/lib/python3.11/site-packages/sklearn/cluster/_kmeans.py:1412: FutureWarning: The default value of `n_init` will change from 10 to 'auto' in 1.4. Set the value of `n_init` explicitly to suppress the warning\n",
      "  super()._check_params_vs_input(X, default_n_init=10)\n",
      "/Users/miahollie/anaconda3/lib/python3.11/site-packages/sklearn/cluster/_kmeans.py:1412: FutureWarning: The default value of `n_init` will change from 10 to 'auto' in 1.4. Set the value of `n_init` explicitly to suppress the warning\n",
      "  super()._check_params_vs_input(X, default_n_init=10)\n",
      "/Users/miahollie/anaconda3/lib/python3.11/site-packages/sklearn/cluster/_kmeans.py:1412: FutureWarning: The default value of `n_init` will change from 10 to 'auto' in 1.4. Set the value of `n_init` explicitly to suppress the warning\n",
      "  super()._check_params_vs_input(X, default_n_init=10)\n",
      "/Users/miahollie/anaconda3/lib/python3.11/site-packages/sklearn/cluster/_kmeans.py:1412: FutureWarning: The default value of `n_init` will change from 10 to 'auto' in 1.4. Set the value of `n_init` explicitly to suppress the warning\n",
      "  super()._check_params_vs_input(X, default_n_init=10)\n",
      "/Users/miahollie/anaconda3/lib/python3.11/site-packages/sklearn/cluster/_kmeans.py:1412: FutureWarning: The default value of `n_init` will change from 10 to 'auto' in 1.4. Set the value of `n_init` explicitly to suppress the warning\n",
      "  super()._check_params_vs_input(X, default_n_init=10)\n",
      "/Users/miahollie/anaconda3/lib/python3.11/site-packages/sklearn/cluster/_kmeans.py:1412: FutureWarning: The default value of `n_init` will change from 10 to 'auto' in 1.4. Set the value of `n_init` explicitly to suppress the warning\n",
      "  super()._check_params_vs_input(X, default_n_init=10)\n",
      "/Users/miahollie/anaconda3/lib/python3.11/site-packages/sklearn/cluster/_kmeans.py:1412: FutureWarning: The default value of `n_init` will change from 10 to 'auto' in 1.4. Set the value of `n_init` explicitly to suppress the warning\n",
      "  super()._check_params_vs_input(X, default_n_init=10)\n"
     ]
    }
   ],
   "source": [
    "for i in range(1,10): # <-- loop through...\n",
    "    kmeans = KMeans(n_clusters=i) # <-- assign every \"i\" in the loop to n_clusters, perform kmeans on each\n",
    "    kmeans.fit(combined_geo[features_2016]) # <-- fit the model to each feature\n",
    "    inertias.append(kmeans.inertia_) # <-- measure how well the dataset was clustered by kmeans"
   ]
  },
  {
   "cell_type": "code",
   "execution_count": 46,
   "id": "d82e2fbf",
   "metadata": {},
   "outputs": [
    {
     "data": {
      "image/png": "[encoded data removed]",
      "text/plain": [
       "<Figure size 640x480 with 1 Axes>"
      ]
     },
     "metadata": {},
     "output_type": "display_data"
    }
   ],
   "source": [
    "## plot the clusters and their inertia\n",
    "## use the 'elbow' method to find where the line starts to even out\n",
    "plt.plot(range(1,10), inertias, marker='o')\n",
    "plt.title('Clusters vs. Inertia 2016')\n",
    "plt.show()"
   ]
  },
  {
   "cell_type": "code",
   "execution_count": 47,
   "id": "6d04c070",
   "metadata": {},
   "outputs": [
    {
     "name": "stderr",
     "output_type": "stream",
     "text": [
      "/Users/miahollie/anaconda3/lib/python3.11/site-packages/sklearn/cluster/_kmeans.py:1412: FutureWarning: The default value of `n_init` will change from 10 to 'auto' in 1.4. Set the value of `n_init` explicitly to suppress the warning\n",
      "  super()._check_params_vs_input(X, default_n_init=10)\n"
     ]
    },
    {
     "data": {
      "text/html": [
       "<style>#sk-container-id-3 {color: black;}#sk-container-id-3 pre{padding: 0;}#sk-container-id-3 div.sk-toggleable {background-color: white;}#sk-container-id-3 label.sk-toggleable__label {cursor: pointer;display: block;width: 100%;margin-bottom: 0;padding: 0.3em;box-sizing: border-box;text-align: center;}#sk-container-id-3 label.sk-toggleable__label-arrow:before {content: \"▸\";float: left;margin-right: 0.25em;color: #696969;}#sk-container-id-3 label.sk-toggleable__label-arrow:hover:before {color: black;}#sk-container-id-3 div.sk-estimator:hover label.sk-toggleable__label-arrow:before {color: black;}#sk-container-id-3 div.sk-toggleable__content {max-height: 0;max-width: 0;overflow: hidden;text-align: left;background-color: #f0f8ff;}#sk-container-id-3 div.sk-toggleable__content pre {margin: 0.2em;color: black;border-radius: 0.25em;background-color: #f0f8ff;}#sk-container-id-3 input.sk-toggleable__control:checked~div.sk-toggleable__content {max-height: 200px;max-width: 100%;overflow: auto;}#sk-container-id-3 input.sk-toggleable__control:checked~label.sk-toggleable__label-arrow:before {content: \"▾\";}#sk-container-id-3 div.sk-estimator input.sk-toggleable__control:checked~label.sk-toggleable__label {background-color: #d4ebff;}#sk-container-id-3 div.sk-label input.sk-toggleable__control:checked~label.sk-toggleable__label {background-color: #d4ebff;}#sk-container-id-3 input.sk-hidden--visually {border: 0;clip: rect(1px 1px 1px 1px);clip: rect(1px, 1px, 1px, 1px);height: 1px;margin: -1px;overflow: hidden;padding: 0;position: absolute;width: 1px;}#sk-container-id-3 div.sk-estimator {font-family: monospace;background-color: #f0f8ff;border: 1px dotted black;border-radius: 0.25em;box-sizing: border-box;margin-bottom: 0.5em;}#sk-container-id-3 div.sk-estimator:hover {background-color: #d4ebff;}#sk-container-id-3 div.sk-parallel-item::after {content: \"\";width: 100%;border-bottom: 1px solid gray;flex-grow: 1;}#sk-container-id-3 div.sk-label:hover label.sk-toggleable__label {background-color: #d4ebff;}#sk-container-id-3 div.sk-serial::before {content: \"\";position: absolute;border-left: 1px solid gray;box-sizing: border-box;top: 0;bottom: 0;left: 50%;z-index: 0;}#sk-container-id-3 div.sk-serial {display: flex;flex-direction: column;align-items: center;background-color: white;padding-right: 0.2em;padding-left: 0.2em;position: relative;}#sk-container-id-3 div.sk-item {position: relative;z-index: 1;}#sk-container-id-3 div.sk-parallel {display: flex;align-items: stretch;justify-content: center;background-color: white;position: relative;}#sk-container-id-3 div.sk-item::before, #sk-container-id-3 div.sk-parallel-item::before {content: \"\";position: absolute;border-left: 1px solid gray;box-sizing: border-box;top: 0;bottom: 0;left: 50%;z-index: -1;}#sk-container-id-3 div.sk-parallel-item {display: flex;flex-direction: column;z-index: 1;position: relative;background-color: white;}#sk-container-id-3 div.sk-parallel-item:first-child::after {align-self: flex-end;width: 50%;}#sk-container-id-3 div.sk-parallel-item:last-child::after {align-self: flex-start;width: 50%;}#sk-container-id-3 div.sk-parallel-item:only-child::after {width: 0;}#sk-container-id-3 div.sk-dashed-wrapped {border: 1px dashed gray;margin: 0 0.4em 0.5em 0.4em;box-sizing: border-box;padding-bottom: 0.4em;background-color: white;}#sk-container-id-3 div.sk-label label {font-family: monospace;font-weight: bold;display: inline-block;line-height: 1.2em;}#sk-container-id-3 div.sk-label-container {text-align: center;}#sk-container-id-3 div.sk-container {/* jupyter's `normalize.less` sets `[hidden] { display: none; }` but bootstrap.min.css set `[hidden] { display: none !important; }` so we also need the `!important` here to be able to override the default hidden behavior on the sphinx rendered scikit-learn.org. See: https://github.com/scikit-learn/scikit-learn/issues/21755 */display: inline-block !important;position: relative;}#sk-container-id-3 div.sk-text-repr-fallback {display: none;}</style><div id=\"sk-container-id-3\" class=\"sk-top-container\"><div class=\"sk-text-repr-fallback\"><pre>KMeans(n_clusters=6, random_state=42)</pre><b>In a Jupyter environment, please rerun this cell to show the HTML representation or trust the notebook. <br />On GitHub, the HTML representation is unable to render, please try loading this page with nbviewer.org.</b></div><div class=\"sk-container\" hidden><div class=\"sk-item\"><div class=\"sk-estimator sk-toggleable\"><input class=\"sk-toggleable__control sk-hidden--visually\" id=\"sk-estimator-id-3\" type=\"checkbox\" checked><label for=\"sk-estimator-id-3\" class=\"sk-toggleable__label sk-toggleable__label-arrow\">KMeans</label><div class=\"sk-toggleable__content\"><pre>KMeans(n_clusters=6, random_state=42)</pre></div></div></div></div></div>"
      ],
      "text/plain": [
       "KMeans(n_clusters=6, random_state=42)"
      ]
     },
     "execution_count": 47,
     "metadata": {},
     "output_type": "execute_result"
    }
   ],
   "source": [
    "## the line started to even out around 6\n",
    "kmeans = KMeans(n_clusters=6, random_state=42) # <-- create 6 clusters, use a random state\n",
    "kmeans.fit(combined_geo[features_2016]) # <-- fit the model to the '12 features"
   ]
  },
  {
   "cell_type": "code",
   "execution_count": 48,
   "id": "73d5daa1",
   "metadata": {},
   "outputs": [],
   "source": [
    "## create a new column to store the kmeans labels\n",
    "combined_geo['kmeans_label_16'] = kmeans.labels_"
   ]
  },
  {
   "cell_type": "code",
   "execution_count": 49,
   "id": "55097fb6",
   "metadata": {},
   "outputs": [
    {
     "data": {
      "text/plain": [
       "kmeans_label_16\n",
       "1    5\n",
       "4    4\n",
       "3    4\n",
       "0    3\n",
       "5    3\n",
       "2    2\n",
       "Name: count, dtype: int64"
      ]
     },
     "execution_count": 49,
     "metadata": {},
     "output_type": "execute_result"
    }
   ],
   "source": [
    "## count the number of counties in each kmeans category\n",
    "combined_geo['kmeans_label_16'].value_counts()"
   ]
  },
  {
   "cell_type": "code",
   "execution_count": 50,
   "id": "c7904320",
   "metadata": {},
   "outputs": [
    {
     "data": {
      "text/plain": [
       "<Axes: >"
      ]
     },
     "execution_count": 50,
     "metadata": {},
     "output_type": "execute_result"
    },
    {
     "data": {
      "image/png": "[encoded data removed]",
      "text/plain": [
       "<Figure size 640x480 with 2 Axes>"
      ]
     },
     "metadata": {},
     "output_type": "display_data"
    }
   ],
   "source": [
    "## plot the kmeans labels on the counties map we created earlier\n",
    "combined_geo.plot(\n",
    "    column = \"kmeans_label_16\",\n",
    "    cmap = \"Paired\",\n",
    "    legend = True)"
   ]
  },
  {
   "cell_type": "code",
   "execution_count": 51,
   "id": "05e54203",
   "metadata": {},
   "outputs": [
    {
     "data": {
      "text/html": [
       "<div>\n",
       "<style scoped>\n",
       "    .dataframe tbody tr th:only-of-type {\n",
       "        vertical-align: middle;\n",
       "    }\n",
       "\n",
       "    .dataframe tbody tr th {\n",
       "        vertical-align: top;\n",
       "    }\n",
       "\n",
       "    .dataframe thead th {\n",
       "        text-align: right;\n",
       "    }\n",
       "</style>\n",
       "<table border=\"1\" class=\"dataframe\">\n",
       "  <thead>\n",
       "    <tr style=\"text-align: right;\">\n",
       "      <th>kmeans_label_16</th>\n",
       "      <th>0</th>\n",
       "      <th>1</th>\n",
       "      <th>2</th>\n",
       "      <th>3</th>\n",
       "      <th>4</th>\n",
       "      <th>5</th>\n",
       "    </tr>\n",
       "  </thead>\n",
       "  <tbody>\n",
       "    <tr>\n",
       "      <th>pct_college_16</th>\n",
       "      <td>0.161198</td>\n",
       "      <td>0.139287</td>\n",
       "      <td>0.188667</td>\n",
       "      <td>0.195835</td>\n",
       "      <td>0.104834</td>\n",
       "      <td>0.139039</td>\n",
       "    </tr>\n",
       "    <tr>\n",
       "      <th>pct_hispanic_16</th>\n",
       "      <td>0.078095</td>\n",
       "      <td>0.302854</td>\n",
       "      <td>0.191859</td>\n",
       "      <td>0.100175</td>\n",
       "      <td>0.177534</td>\n",
       "      <td>0.080694</td>\n",
       "    </tr>\n",
       "    <tr>\n",
       "      <th>pct_black_16</th>\n",
       "      <td>0.107604</td>\n",
       "      <td>0.201173</td>\n",
       "      <td>0.072758</td>\n",
       "      <td>0.040719</td>\n",
       "      <td>0.160231</td>\n",
       "      <td>0.038236</td>\n",
       "    </tr>\n",
       "    <tr>\n",
       "      <th>pct_asian_16</th>\n",
       "      <td>0.043296</td>\n",
       "      <td>0.079943</td>\n",
       "      <td>0.196326</td>\n",
       "      <td>0.079614</td>\n",
       "      <td>0.039953</td>\n",
       "      <td>0.019129</td>\n",
       "    </tr>\n",
       "    <tr>\n",
       "      <th>pct_rep_16</th>\n",
       "      <td>0.234529</td>\n",
       "      <td>0.132739</td>\n",
       "      <td>0.174091</td>\n",
       "      <td>0.350426</td>\n",
       "      <td>0.202319</td>\n",
       "      <td>0.361897</td>\n",
       "    </tr>\n",
       "    <tr>\n",
       "      <th>pct_dem_16</th>\n",
       "      <td>0.331219</td>\n",
       "      <td>0.449614</td>\n",
       "      <td>0.366168</td>\n",
       "      <td>0.240148</td>\n",
       "      <td>0.345829</td>\n",
       "      <td>0.218581</td>\n",
       "    </tr>\n",
       "    <tr>\n",
       "      <th>pct_none_16</th>\n",
       "      <td>0.434252</td>\n",
       "      <td>0.417647</td>\n",
       "      <td>0.459741</td>\n",
       "      <td>0.409426</td>\n",
       "      <td>0.451852</td>\n",
       "      <td>0.419522</td>\n",
       "    </tr>\n",
       "    <tr>\n",
       "      <th>pct_foreign_born_16</th>\n",
       "      <td>0.093678</td>\n",
       "      <td>0.295459</td>\n",
       "      <td>0.312149</td>\n",
       "      <td>0.149066</td>\n",
       "      <td>0.107582</td>\n",
       "      <td>0.075423</td>\n",
       "    </tr>\n",
       "    <tr>\n",
       "      <th>unemployed_16</th>\n",
       "      <td>0.046000</td>\n",
       "      <td>0.052200</td>\n",
       "      <td>0.042500</td>\n",
       "      <td>0.040750</td>\n",
       "      <td>0.066500</td>\n",
       "      <td>0.065000</td>\n",
       "    </tr>\n",
       "    <tr>\n",
       "      <th>income_16</th>\n",
       "      <td>0.757780</td>\n",
       "      <td>0.595062</td>\n",
       "      <td>0.782066</td>\n",
       "      <td>0.926186</td>\n",
       "      <td>0.530062</td>\n",
       "      <td>0.602238</td>\n",
       "    </tr>\n",
       "  </tbody>\n",
       "</table>\n",
       "</div>"
      ],
      "text/plain": [
       "kmeans_label_16             0         1         2         3         4  \\\n",
       "pct_college_16       0.161198  0.139287  0.188667  0.195835  0.104834   \n",
       "pct_hispanic_16      0.078095  0.302854  0.191859  0.100175  0.177534   \n",
       "pct_black_16         0.107604  0.201173  0.072758  0.040719  0.160231   \n",
       "pct_asian_16         0.043296  0.079943  0.196326  0.079614  0.039953   \n",
       "pct_rep_16           0.234529  0.132739  0.174091  0.350426  0.202319   \n",
       "pct_dem_16           0.331219  0.449614  0.366168  0.240148  0.345829   \n",
       "pct_none_16          0.434252  0.417647  0.459741  0.409426  0.451852   \n",
       "pct_foreign_born_16  0.093678  0.295459  0.312149  0.149066  0.107582   \n",
       "unemployed_16        0.046000  0.052200  0.042500  0.040750  0.066500   \n",
       "income_16            0.757780  0.595062  0.782066  0.926186  0.530062   \n",
       "\n",
       "kmeans_label_16             5  \n",
       "pct_college_16       0.139039  \n",
       "pct_hispanic_16      0.080694  \n",
       "pct_black_16         0.038236  \n",
       "pct_asian_16         0.019129  \n",
       "pct_rep_16           0.361897  \n",
       "pct_dem_16           0.218581  \n",
       "pct_none_16          0.419522  \n",
       "pct_foreign_born_16  0.075423  \n",
       "unemployed_16        0.065000  \n",
       "income_16            0.602238  "
      ]
     },
     "execution_count": 51,
     "metadata": {},
     "output_type": "execute_result"
    }
   ],
   "source": [
    "cluster_feature_averages_16 = combined_geo.groupby('kmeans_label_16')[features_2016].mean().T\n",
    "cluster_feature_averages_16"
   ]
  },
  {
   "cell_type": "code",
   "execution_count": 52,
   "id": "87658dc9",
   "metadata": {},
   "outputs": [
    {
     "data": {
      "text/html": [
       "<div>\n",
       "<style scoped>\n",
       "    .dataframe tbody tr th:only-of-type {\n",
       "        vertical-align: middle;\n",
       "    }\n",
       "\n",
       "    .dataframe tbody tr th {\n",
       "        vertical-align: top;\n",
       "    }\n",
       "\n",
       "    .dataframe thead th {\n",
       "        text-align: right;\n",
       "    }\n",
       "</style>\n",
       "<table border=\"1\" class=\"dataframe\">\n",
       "  <thead>\n",
       "    <tr style=\"text-align: right;\">\n",
       "      <th>kmeans_label_16</th>\n",
       "      <th>0</th>\n",
       "      <th>1</th>\n",
       "      <th>2</th>\n",
       "      <th>3</th>\n",
       "      <th>4</th>\n",
       "      <th>5</th>\n",
       "      <th>variance</th>\n",
       "    </tr>\n",
       "  </thead>\n",
       "  <tbody>\n",
       "    <tr>\n",
       "      <th>income_16</th>\n",
       "      <td>0.757780</td>\n",
       "      <td>0.595062</td>\n",
       "      <td>0.782066</td>\n",
       "      <td>0.926186</td>\n",
       "      <td>0.530062</td>\n",
       "      <td>0.602238</td>\n",
       "      <td>0.022135</td>\n",
       "    </tr>\n",
       "    <tr>\n",
       "      <th>pct_foreign_born_16</th>\n",
       "      <td>0.093678</td>\n",
       "      <td>0.295459</td>\n",
       "      <td>0.312149</td>\n",
       "      <td>0.149066</td>\n",
       "      <td>0.107582</td>\n",
       "      <td>0.075423</td>\n",
       "      <td>0.011004</td>\n",
       "    </tr>\n",
       "    <tr>\n",
       "      <th>pct_rep_16</th>\n",
       "      <td>0.234529</td>\n",
       "      <td>0.132739</td>\n",
       "      <td>0.174091</td>\n",
       "      <td>0.350426</td>\n",
       "      <td>0.202319</td>\n",
       "      <td>0.361897</td>\n",
       "      <td>0.008862</td>\n",
       "    </tr>\n",
       "    <tr>\n",
       "      <th>pct_hispanic_16</th>\n",
       "      <td>0.078095</td>\n",
       "      <td>0.302854</td>\n",
       "      <td>0.191859</td>\n",
       "      <td>0.100175</td>\n",
       "      <td>0.177534</td>\n",
       "      <td>0.080694</td>\n",
       "      <td>0.007634</td>\n",
       "    </tr>\n",
       "    <tr>\n",
       "      <th>pct_dem_16</th>\n",
       "      <td>0.331219</td>\n",
       "      <td>0.449614</td>\n",
       "      <td>0.366168</td>\n",
       "      <td>0.240148</td>\n",
       "      <td>0.345829</td>\n",
       "      <td>0.218581</td>\n",
       "      <td>0.007244</td>\n",
       "    </tr>\n",
       "    <tr>\n",
       "      <th>pct_black_16</th>\n",
       "      <td>0.107604</td>\n",
       "      <td>0.201173</td>\n",
       "      <td>0.072758</td>\n",
       "      <td>0.040719</td>\n",
       "      <td>0.160231</td>\n",
       "      <td>0.038236</td>\n",
       "      <td>0.004384</td>\n",
       "    </tr>\n",
       "    <tr>\n",
       "      <th>pct_asian_16</th>\n",
       "      <td>0.043296</td>\n",
       "      <td>0.079943</td>\n",
       "      <td>0.196326</td>\n",
       "      <td>0.079614</td>\n",
       "      <td>0.039953</td>\n",
       "      <td>0.019129</td>\n",
       "      <td>0.004022</td>\n",
       "    </tr>\n",
       "    <tr>\n",
       "      <th>pct_college_16</th>\n",
       "      <td>0.161198</td>\n",
       "      <td>0.139287</td>\n",
       "      <td>0.188667</td>\n",
       "      <td>0.195835</td>\n",
       "      <td>0.104834</td>\n",
       "      <td>0.139039</td>\n",
       "      <td>0.001171</td>\n",
       "    </tr>\n",
       "    <tr>\n",
       "      <th>pct_none_16</th>\n",
       "      <td>0.434252</td>\n",
       "      <td>0.417647</td>\n",
       "      <td>0.459741</td>\n",
       "      <td>0.409426</td>\n",
       "      <td>0.451852</td>\n",
       "      <td>0.419522</td>\n",
       "      <td>0.000408</td>\n",
       "    </tr>\n",
       "    <tr>\n",
       "      <th>unemployed_16</th>\n",
       "      <td>0.046000</td>\n",
       "      <td>0.052200</td>\n",
       "      <td>0.042500</td>\n",
       "      <td>0.040750</td>\n",
       "      <td>0.066500</td>\n",
       "      <td>0.065000</td>\n",
       "      <td>0.000126</td>\n",
       "    </tr>\n",
       "  </tbody>\n",
       "</table>\n",
       "</div>"
      ],
      "text/plain": [
       "kmeans_label_16             0         1         2         3         4  \\\n",
       "income_16            0.757780  0.595062  0.782066  0.926186  0.530062   \n",
       "pct_foreign_born_16  0.093678  0.295459  0.312149  0.149066  0.107582   \n",
       "pct_rep_16           0.234529  0.132739  0.174091  0.350426  0.202319   \n",
       "pct_hispanic_16      0.078095  0.302854  0.191859  0.100175  0.177534   \n",
       "pct_dem_16           0.331219  0.449614  0.366168  0.240148  0.345829   \n",
       "pct_black_16         0.107604  0.201173  0.072758  0.040719  0.160231   \n",
       "pct_asian_16         0.043296  0.079943  0.196326  0.079614  0.039953   \n",
       "pct_college_16       0.161198  0.139287  0.188667  0.195835  0.104834   \n",
       "pct_none_16          0.434252  0.417647  0.459741  0.409426  0.451852   \n",
       "unemployed_16        0.046000  0.052200  0.042500  0.040750  0.066500   \n",
       "\n",
       "kmeans_label_16             5  variance  \n",
       "income_16            0.602238  0.022135  \n",
       "pct_foreign_born_16  0.075423  0.011004  \n",
       "pct_rep_16           0.361897  0.008862  \n",
       "pct_hispanic_16      0.080694  0.007634  \n",
       "pct_dem_16           0.218581  0.007244  \n",
       "pct_black_16         0.038236  0.004384  \n",
       "pct_asian_16         0.019129  0.004022  \n",
       "pct_college_16       0.139039  0.001171  \n",
       "pct_none_16          0.419522  0.000408  \n",
       "unemployed_16        0.065000  0.000126  "
      ]
     },
     "execution_count": 52,
     "metadata": {},
     "output_type": "execute_result"
    }
   ],
   "source": [
    "## how do the various clusters vary across each row?\n",
    "cluster_feature_averages_16['variance'] = cluster_feature_averages_16.apply(lambda x: x.var(), axis=1)\n",
    "cluster_feature_averages_16.sort_values('variance', ascending = False)"
   ]
  },
  {
   "cell_type": "markdown",
   "id": "bbd732ca",
   "metadata": {},
   "source": [
    "### 2020"
   ]
  },
  {
   "cell_type": "code",
   "execution_count": 53,
   "id": "a474b289",
   "metadata": {},
   "outputs": [],
   "source": [
    "## identify the indicators we want to analyze\n",
    "features_2020 = [\n",
    "    'pct_college_20',\n",
    "    'pct_hispanic_20',\n",
    "    'pct_black_20',\n",
    "    'pct_asian_20',\n",
    "    'pct_rep_20',\n",
    "    'pct_dem_20',\n",
    "    'pct_none_20',\n",
    "    'pct_foreign_born_20',\n",
    "    'unemployed_20',\n",
    "    'income_20'\n",
    "]"
   ]
  },
  {
   "cell_type": "code",
   "execution_count": 54,
   "id": "1e2a9fb8",
   "metadata": {},
   "outputs": [],
   "source": [
    "## create an empty array to write the kmeans to\n",
    "inertias = []"
   ]
  },
  {
   "cell_type": "code",
   "execution_count": 55,
   "id": "b93273f6",
   "metadata": {},
   "outputs": [
    {
     "name": "stderr",
     "output_type": "stream",
     "text": [
      "/Users/miahollie/anaconda3/lib/python3.11/site-packages/sklearn/cluster/_kmeans.py:1412: FutureWarning: The default value of `n_init` will change from 10 to 'auto' in 1.4. Set the value of `n_init` explicitly to suppress the warning\n",
      "  super()._check_params_vs_input(X, default_n_init=10)\n",
      "/Users/miahollie/anaconda3/lib/python3.11/site-packages/sklearn/cluster/_kmeans.py:1412: FutureWarning: The default value of `n_init` will change from 10 to 'auto' in 1.4. Set the value of `n_init` explicitly to suppress the warning\n",
      "  super()._check_params_vs_input(X, default_n_init=10)\n",
      "/Users/miahollie/anaconda3/lib/python3.11/site-packages/sklearn/cluster/_kmeans.py:1412: FutureWarning: The default value of `n_init` will change from 10 to 'auto' in 1.4. Set the value of `n_init` explicitly to suppress the warning\n",
      "  super()._check_params_vs_input(X, default_n_init=10)\n",
      "/Users/miahollie/anaconda3/lib/python3.11/site-packages/sklearn/cluster/_kmeans.py:1412: FutureWarning: The default value of `n_init` will change from 10 to 'auto' in 1.4. Set the value of `n_init` explicitly to suppress the warning\n",
      "  super()._check_params_vs_input(X, default_n_init=10)\n",
      "/Users/miahollie/anaconda3/lib/python3.11/site-packages/sklearn/cluster/_kmeans.py:1412: FutureWarning: The default value of `n_init` will change from 10 to 'auto' in 1.4. Set the value of `n_init` explicitly to suppress the warning\n",
      "  super()._check_params_vs_input(X, default_n_init=10)\n",
      "/Users/miahollie/anaconda3/lib/python3.11/site-packages/sklearn/cluster/_kmeans.py:1412: FutureWarning: The default value of `n_init` will change from 10 to 'auto' in 1.4. Set the value of `n_init` explicitly to suppress the warning\n",
      "  super()._check_params_vs_input(X, default_n_init=10)\n",
      "/Users/miahollie/anaconda3/lib/python3.11/site-packages/sklearn/cluster/_kmeans.py:1412: FutureWarning: The default value of `n_init` will change from 10 to 'auto' in 1.4. Set the value of `n_init` explicitly to suppress the warning\n",
      "  super()._check_params_vs_input(X, default_n_init=10)\n",
      "/Users/miahollie/anaconda3/lib/python3.11/site-packages/sklearn/cluster/_kmeans.py:1412: FutureWarning: The default value of `n_init` will change from 10 to 'auto' in 1.4. Set the value of `n_init` explicitly to suppress the warning\n",
      "  super()._check_params_vs_input(X, default_n_init=10)\n",
      "/Users/miahollie/anaconda3/lib/python3.11/site-packages/sklearn/cluster/_kmeans.py:1412: FutureWarning: The default value of `n_init` will change from 10 to 'auto' in 1.4. Set the value of `n_init` explicitly to suppress the warning\n",
      "  super()._check_params_vs_input(X, default_n_init=10)\n"
     ]
    }
   ],
   "source": [
    "for i in range(1,10): # <-- loop through...\n",
    "    kmeans = KMeans(n_clusters=i) # <-- assign every \"i\" in the loop to n_clusters, perform kmeans on each\n",
    "    kmeans.fit(combined_geo[features_2020]) # <-- fit the model to each feature\n",
    "    inertias.append(kmeans.inertia_) # <-- measure how well the dataset was clustered by kmeans"
   ]
  },
  {
   "cell_type": "code",
   "execution_count": 56,
   "id": "75929726",
   "metadata": {},
   "outputs": [
    {
     "data": {
      "image/png": "[encoded data removed]",
      "text/plain": [
       "<Figure size 640x480 with 1 Axes>"
      ]
     },
     "metadata": {},
     "output_type": "display_data"
    }
   ],
   "source": [
    "## plot the clusters and their inertia\n",
    "## use the 'elbow' method to find where the line starts to even out\n",
    "plt.plot(range(1,10), inertias, marker='o')\n",
    "plt.title('Clusters vs. Inertia 2020')\n",
    "plt.show()"
   ]
  },
  {
   "cell_type": "code",
   "execution_count": 57,
   "id": "30c1a0e4",
   "metadata": {},
   "outputs": [
    {
     "name": "stderr",
     "output_type": "stream",
     "text": [
      "/Users/miahollie/anaconda3/lib/python3.11/site-packages/sklearn/cluster/_kmeans.py:1412: FutureWarning: The default value of `n_init` will change from 10 to 'auto' in 1.4. Set the value of `n_init` explicitly to suppress the warning\n",
      "  super()._check_params_vs_input(X, default_n_init=10)\n"
     ]
    },
    {
     "data": {
      "text/html": [
       "<style>#sk-container-id-4 {color: black;}#sk-container-id-4 pre{padding: 0;}#sk-container-id-4 div.sk-toggleable {background-color: white;}#sk-container-id-4 label.sk-toggleable__label {cursor: pointer;display: block;width: 100%;margin-bottom: 0;padding: 0.3em;box-sizing: border-box;text-align: center;}#sk-container-id-4 label.sk-toggleable__label-arrow:before {content: \"▸\";float: left;margin-right: 0.25em;color: #696969;}#sk-container-id-4 label.sk-toggleable__label-arrow:hover:before {color: black;}#sk-container-id-4 div.sk-estimator:hover label.sk-toggleable__label-arrow:before {color: black;}#sk-container-id-4 div.sk-toggleable__content {max-height: 0;max-width: 0;overflow: hidden;text-align: left;background-color: #f0f8ff;}#sk-container-id-4 div.sk-toggleable__content pre {margin: 0.2em;color: black;border-radius: 0.25em;background-color: #f0f8ff;}#sk-container-id-4 input.sk-toggleable__control:checked~div.sk-toggleable__content {max-height: 200px;max-width: 100%;overflow: auto;}#sk-container-id-4 input.sk-toggleable__control:checked~label.sk-toggleable__label-arrow:before {content: \"▾\";}#sk-container-id-4 div.sk-estimator input.sk-toggleable__control:checked~label.sk-toggleable__label {background-color: #d4ebff;}#sk-container-id-4 div.sk-label input.sk-toggleable__control:checked~label.sk-toggleable__label {background-color: #d4ebff;}#sk-container-id-4 input.sk-hidden--visually {border: 0;clip: rect(1px 1px 1px 1px);clip: rect(1px, 1px, 1px, 1px);height: 1px;margin: -1px;overflow: hidden;padding: 0;position: absolute;width: 1px;}#sk-container-id-4 div.sk-estimator {font-family: monospace;background-color: #f0f8ff;border: 1px dotted black;border-radius: 0.25em;box-sizing: border-box;margin-bottom: 0.5em;}#sk-container-id-4 div.sk-estimator:hover {background-color: #d4ebff;}#sk-container-id-4 div.sk-parallel-item::after {content: \"\";width: 100%;border-bottom: 1px solid gray;flex-grow: 1;}#sk-container-id-4 div.sk-label:hover label.sk-toggleable__label {background-color: #d4ebff;}#sk-container-id-4 div.sk-serial::before {content: \"\";position: absolute;border-left: 1px solid gray;box-sizing: border-box;top: 0;bottom: 0;left: 50%;z-index: 0;}#sk-container-id-4 div.sk-serial {display: flex;flex-direction: column;align-items: center;background-color: white;padding-right: 0.2em;padding-left: 0.2em;position: relative;}#sk-container-id-4 div.sk-item {position: relative;z-index: 1;}#sk-container-id-4 div.sk-parallel {display: flex;align-items: stretch;justify-content: center;background-color: white;position: relative;}#sk-container-id-4 div.sk-item::before, #sk-container-id-4 div.sk-parallel-item::before {content: \"\";position: absolute;border-left: 1px solid gray;box-sizing: border-box;top: 0;bottom: 0;left: 50%;z-index: -1;}#sk-container-id-4 div.sk-parallel-item {display: flex;flex-direction: column;z-index: 1;position: relative;background-color: white;}#sk-container-id-4 div.sk-parallel-item:first-child::after {align-self: flex-end;width: 50%;}#sk-container-id-4 div.sk-parallel-item:last-child::after {align-self: flex-start;width: 50%;}#sk-container-id-4 div.sk-parallel-item:only-child::after {width: 0;}#sk-container-id-4 div.sk-dashed-wrapped {border: 1px dashed gray;margin: 0 0.4em 0.5em 0.4em;box-sizing: border-box;padding-bottom: 0.4em;background-color: white;}#sk-container-id-4 div.sk-label label {font-family: monospace;font-weight: bold;display: inline-block;line-height: 1.2em;}#sk-container-id-4 div.sk-label-container {text-align: center;}#sk-container-id-4 div.sk-container {/* jupyter's `normalize.less` sets `[hidden] { display: none; }` but bootstrap.min.css set `[hidden] { display: none !important; }` so we also need the `!important` here to be able to override the default hidden behavior on the sphinx rendered scikit-learn.org. See: https://github.com/scikit-learn/scikit-learn/issues/21755 */display: inline-block !important;position: relative;}#sk-container-id-4 div.sk-text-repr-fallback {display: none;}</style><div id=\"sk-container-id-4\" class=\"sk-top-container\"><div class=\"sk-text-repr-fallback\"><pre>KMeans(n_clusters=6, random_state=42)</pre><b>In a Jupyter environment, please rerun this cell to show the HTML representation or trust the notebook. <br />On GitHub, the HTML representation is unable to render, please try loading this page with nbviewer.org.</b></div><div class=\"sk-container\" hidden><div class=\"sk-item\"><div class=\"sk-estimator sk-toggleable\"><input class=\"sk-toggleable__control sk-hidden--visually\" id=\"sk-estimator-id-4\" type=\"checkbox\" checked><label for=\"sk-estimator-id-4\" class=\"sk-toggleable__label sk-toggleable__label-arrow\">KMeans</label><div class=\"sk-toggleable__content\"><pre>KMeans(n_clusters=6, random_state=42)</pre></div></div></div></div></div>"
      ],
      "text/plain": [
       "KMeans(n_clusters=6, random_state=42)"
      ]
     },
     "execution_count": 57,
     "metadata": {},
     "output_type": "execute_result"
    }
   ],
   "source": [
    "## the line started to even out around 6\n",
    "kmeans = KMeans(n_clusters=6, random_state=42) # <-- create 6 clusters, use a random state\n",
    "kmeans.fit(combined_geo[features_2020]) # <-- fit the model to the '12 features"
   ]
  },
  {
   "cell_type": "code",
   "execution_count": 58,
   "id": "e692e4ca",
   "metadata": {},
   "outputs": [],
   "source": [
    "## create a new column to store the kmeans labels\n",
    "combined_geo['kmeans_label_20'] = kmeans.labels_"
   ]
  },
  {
   "cell_type": "code",
   "execution_count": 59,
   "id": "bb199f9f",
   "metadata": {},
   "outputs": [
    {
     "data": {
      "text/plain": [
       "kmeans_label_20\n",
       "3    5\n",
       "4    4\n",
       "1    4\n",
       "2    3\n",
       "5    3\n",
       "0    2\n",
       "Name: count, dtype: int64"
      ]
     },
     "execution_count": 59,
     "metadata": {},
     "output_type": "execute_result"
    }
   ],
   "source": [
    "## count the number of counties in each kmeans category\n",
    "combined_geo['kmeans_label_20'].value_counts()"
   ]
  },
  {
   "cell_type": "code",
   "execution_count": 60,
   "id": "984b0c9a",
   "metadata": {},
   "outputs": [
    {
     "data": {
      "text/plain": [
       "<Axes: >"
      ]
     },
     "execution_count": 60,
     "metadata": {},
     "output_type": "execute_result"
    },
    {
     "data": {
      "image/png": "[encoded data removed]",
      "text/plain": [
       "<Figure size 640x480 with 2 Axes>"
      ]
     },
     "metadata": {},
     "output_type": "display_data"
    }
   ],
   "source": [
    "## plot the kmeans labels on the counties map we created earlier\n",
    "combined_geo.plot(\n",
    "    column = \"kmeans_label_20\",\n",
    "    cmap = \"Paired\",\n",
    "    legend = True)"
   ]
  },
  {
   "cell_type": "code",
   "execution_count": 61,
   "id": "dd2d5a87",
   "metadata": {},
   "outputs": [
    {
     "data": {
      "text/html": [
       "<div>\n",
       "<style scoped>\n",
       "    .dataframe tbody tr th:only-of-type {\n",
       "        vertical-align: middle;\n",
       "    }\n",
       "\n",
       "    .dataframe tbody tr th {\n",
       "        vertical-align: top;\n",
       "    }\n",
       "\n",
       "    .dataframe thead th {\n",
       "        text-align: right;\n",
       "    }\n",
       "</style>\n",
       "<table border=\"1\" class=\"dataframe\">\n",
       "  <thead>\n",
       "    <tr style=\"text-align: right;\">\n",
       "      <th>kmeans_label_20</th>\n",
       "      <th>0</th>\n",
       "      <th>1</th>\n",
       "      <th>2</th>\n",
       "      <th>3</th>\n",
       "      <th>4</th>\n",
       "      <th>5</th>\n",
       "    </tr>\n",
       "  </thead>\n",
       "  <tbody>\n",
       "    <tr>\n",
       "      <th>pct_college_20</th>\n",
       "      <td>0.166560</td>\n",
       "      <td>0.163975</td>\n",
       "      <td>0.102418</td>\n",
       "      <td>0.218052</td>\n",
       "      <td>0.161560</td>\n",
       "      <td>0.145772</td>\n",
       "    </tr>\n",
       "    <tr>\n",
       "      <th>pct_hispanic_20</th>\n",
       "      <td>0.074177</td>\n",
       "      <td>0.344294</td>\n",
       "      <td>0.199658</td>\n",
       "      <td>0.132445</td>\n",
       "      <td>0.089020</td>\n",
       "      <td>0.194790</td>\n",
       "    </tr>\n",
       "    <tr>\n",
       "      <th>pct_black_20</th>\n",
       "      <td>0.130573</td>\n",
       "      <td>0.126114</td>\n",
       "      <td>0.151719</td>\n",
       "      <td>0.053640</td>\n",
       "      <td>0.033249</td>\n",
       "      <td>0.252913</td>\n",
       "    </tr>\n",
       "    <tr>\n",
       "      <th>pct_asian_20</th>\n",
       "      <td>0.040875</td>\n",
       "      <td>0.126055</td>\n",
       "      <td>0.033443</td>\n",
       "      <td>0.109298</td>\n",
       "      <td>0.017742</td>\n",
       "      <td>0.075615</td>\n",
       "    </tr>\n",
       "    <tr>\n",
       "      <th>pct_rep_20</th>\n",
       "      <td>0.249502</td>\n",
       "      <td>0.156026</td>\n",
       "      <td>0.258172</td>\n",
       "      <td>0.298917</td>\n",
       "      <td>0.398975</td>\n",
       "      <td>0.137578</td>\n",
       "    </tr>\n",
       "    <tr>\n",
       "      <th>pct_dem_20</th>\n",
       "      <td>0.394878</td>\n",
       "      <td>0.471411</td>\n",
       "      <td>0.345350</td>\n",
       "      <td>0.317822</td>\n",
       "      <td>0.240838</td>\n",
       "      <td>0.483669</td>\n",
       "    </tr>\n",
       "    <tr>\n",
       "      <th>pct_none_20</th>\n",
       "      <td>0.355620</td>\n",
       "      <td>0.372563</td>\n",
       "      <td>0.396478</td>\n",
       "      <td>0.383261</td>\n",
       "      <td>0.360187</td>\n",
       "      <td>0.378753</td>\n",
       "    </tr>\n",
       "    <tr>\n",
       "      <th>pct_foreign_born_20</th>\n",
       "      <td>0.077561</td>\n",
       "      <td>0.346795</td>\n",
       "      <td>0.099000</td>\n",
       "      <td>0.199787</td>\n",
       "      <td>0.073564</td>\n",
       "      <td>0.206201</td>\n",
       "    </tr>\n",
       "    <tr>\n",
       "      <th>unemployed_20</th>\n",
       "      <td>0.084000</td>\n",
       "      <td>0.100750</td>\n",
       "      <td>0.122333</td>\n",
       "      <td>0.079200</td>\n",
       "      <td>0.100000</td>\n",
       "      <td>0.093667</td>\n",
       "    </tr>\n",
       "    <tr>\n",
       "      <th>income_20</th>\n",
       "      <td>0.761022</td>\n",
       "      <td>0.685144</td>\n",
       "      <td>0.519334</td>\n",
       "      <td>0.949977</td>\n",
       "      <td>0.688929</td>\n",
       "      <td>0.617189</td>\n",
       "    </tr>\n",
       "  </tbody>\n",
       "</table>\n",
       "</div>"
      ],
      "text/plain": [
       "kmeans_label_20             0         1         2         3         4  \\\n",
       "pct_college_20       0.166560  0.163975  0.102418  0.218052  0.161560   \n",
       "pct_hispanic_20      0.074177  0.344294  0.199658  0.132445  0.089020   \n",
       "pct_black_20         0.130573  0.126114  0.151719  0.053640  0.033249   \n",
       "pct_asian_20         0.040875  0.126055  0.033443  0.109298  0.017742   \n",
       "pct_rep_20           0.249502  0.156026  0.258172  0.298917  0.398975   \n",
       "pct_dem_20           0.394878  0.471411  0.345350  0.317822  0.240838   \n",
       "pct_none_20          0.355620  0.372563  0.396478  0.383261  0.360187   \n",
       "pct_foreign_born_20  0.077561  0.346795  0.099000  0.199787  0.073564   \n",
       "unemployed_20        0.084000  0.100750  0.122333  0.079200  0.100000   \n",
       "income_20            0.761022  0.685144  0.519334  0.949977  0.688929   \n",
       "\n",
       "kmeans_label_20             5  \n",
       "pct_college_20       0.145772  \n",
       "pct_hispanic_20      0.194790  \n",
       "pct_black_20         0.252913  \n",
       "pct_asian_20         0.075615  \n",
       "pct_rep_20           0.137578  \n",
       "pct_dem_20           0.483669  \n",
       "pct_none_20          0.378753  \n",
       "pct_foreign_born_20  0.206201  \n",
       "unemployed_20        0.093667  \n",
       "income_20            0.617189  "
      ]
     },
     "execution_count": 61,
     "metadata": {},
     "output_type": "execute_result"
    }
   ],
   "source": [
    "cluster_feature_averages_20 = combined_geo.groupby('kmeans_label_20')[features_2020].mean().T\n",
    "cluster_feature_averages_20"
   ]
  },
  {
   "cell_type": "code",
   "execution_count": 62,
   "id": "f2b3ce7e",
   "metadata": {},
   "outputs": [
    {
     "data": {
      "text/html": [
       "<div>\n",
       "<style scoped>\n",
       "    .dataframe tbody tr th:only-of-type {\n",
       "        vertical-align: middle;\n",
       "    }\n",
       "\n",
       "    .dataframe tbody tr th {\n",
       "        vertical-align: top;\n",
       "    }\n",
       "\n",
       "    .dataframe thead th {\n",
       "        text-align: right;\n",
       "    }\n",
       "</style>\n",
       "<table border=\"1\" class=\"dataframe\">\n",
       "  <thead>\n",
       "    <tr style=\"text-align: right;\">\n",
       "      <th>kmeans_label_20</th>\n",
       "      <th>0</th>\n",
       "      <th>1</th>\n",
       "      <th>2</th>\n",
       "      <th>3</th>\n",
       "      <th>4</th>\n",
       "      <th>5</th>\n",
       "      <th>variance</th>\n",
       "    </tr>\n",
       "  </thead>\n",
       "  <tbody>\n",
       "    <tr>\n",
       "      <th>income_20</th>\n",
       "      <td>0.761022</td>\n",
       "      <td>0.685144</td>\n",
       "      <td>0.519334</td>\n",
       "      <td>0.949977</td>\n",
       "      <td>0.688929</td>\n",
       "      <td>0.617189</td>\n",
       "      <td>0.021195</td>\n",
       "    </tr>\n",
       "    <tr>\n",
       "      <th>pct_foreign_born_20</th>\n",
       "      <td>0.077561</td>\n",
       "      <td>0.346795</td>\n",
       "      <td>0.099000</td>\n",
       "      <td>0.199787</td>\n",
       "      <td>0.073564</td>\n",
       "      <td>0.206201</td>\n",
       "      <td>0.011258</td>\n",
       "    </tr>\n",
       "    <tr>\n",
       "      <th>pct_hispanic_20</th>\n",
       "      <td>0.074177</td>\n",
       "      <td>0.344294</td>\n",
       "      <td>0.199658</td>\n",
       "      <td>0.132445</td>\n",
       "      <td>0.089020</td>\n",
       "      <td>0.194790</td>\n",
       "      <td>0.009798</td>\n",
       "    </tr>\n",
       "    <tr>\n",
       "      <th>pct_rep_20</th>\n",
       "      <td>0.249502</td>\n",
       "      <td>0.156026</td>\n",
       "      <td>0.258172</td>\n",
       "      <td>0.298917</td>\n",
       "      <td>0.398975</td>\n",
       "      <td>0.137578</td>\n",
       "      <td>0.009225</td>\n",
       "    </tr>\n",
       "    <tr>\n",
       "      <th>pct_dem_20</th>\n",
       "      <td>0.394878</td>\n",
       "      <td>0.471411</td>\n",
       "      <td>0.345350</td>\n",
       "      <td>0.317822</td>\n",
       "      <td>0.240838</td>\n",
       "      <td>0.483669</td>\n",
       "      <td>0.008729</td>\n",
       "    </tr>\n",
       "    <tr>\n",
       "      <th>pct_black_20</th>\n",
       "      <td>0.130573</td>\n",
       "      <td>0.126114</td>\n",
       "      <td>0.151719</td>\n",
       "      <td>0.053640</td>\n",
       "      <td>0.033249</td>\n",
       "      <td>0.252913</td>\n",
       "      <td>0.006124</td>\n",
       "    </tr>\n",
       "    <tr>\n",
       "      <th>pct_asian_20</th>\n",
       "      <td>0.040875</td>\n",
       "      <td>0.126055</td>\n",
       "      <td>0.033443</td>\n",
       "      <td>0.109298</td>\n",
       "      <td>0.017742</td>\n",
       "      <td>0.075615</td>\n",
       "      <td>0.001917</td>\n",
       "    </tr>\n",
       "    <tr>\n",
       "      <th>pct_college_20</th>\n",
       "      <td>0.166560</td>\n",
       "      <td>0.163975</td>\n",
       "      <td>0.102418</td>\n",
       "      <td>0.218052</td>\n",
       "      <td>0.161560</td>\n",
       "      <td>0.145772</td>\n",
       "      <td>0.001390</td>\n",
       "    </tr>\n",
       "    <tr>\n",
       "      <th>unemployed_20</th>\n",
       "      <td>0.084000</td>\n",
       "      <td>0.100750</td>\n",
       "      <td>0.122333</td>\n",
       "      <td>0.079200</td>\n",
       "      <td>0.100000</td>\n",
       "      <td>0.093667</td>\n",
       "      <td>0.000232</td>\n",
       "    </tr>\n",
       "    <tr>\n",
       "      <th>pct_none_20</th>\n",
       "      <td>0.355620</td>\n",
       "      <td>0.372563</td>\n",
       "      <td>0.396478</td>\n",
       "      <td>0.383261</td>\n",
       "      <td>0.360187</td>\n",
       "      <td>0.378753</td>\n",
       "      <td>0.000229</td>\n",
       "    </tr>\n",
       "  </tbody>\n",
       "</table>\n",
       "</div>"
      ],
      "text/plain": [
       "kmeans_label_20             0         1         2         3         4  \\\n",
       "income_20            0.761022  0.685144  0.519334  0.949977  0.688929   \n",
       "pct_foreign_born_20  0.077561  0.346795  0.099000  0.199787  0.073564   \n",
       "pct_hispanic_20      0.074177  0.344294  0.199658  0.132445  0.089020   \n",
       "pct_rep_20           0.249502  0.156026  0.258172  0.298917  0.398975   \n",
       "pct_dem_20           0.394878  0.471411  0.345350  0.317822  0.240838   \n",
       "pct_black_20         0.130573  0.126114  0.151719  0.053640  0.033249   \n",
       "pct_asian_20         0.040875  0.126055  0.033443  0.109298  0.017742   \n",
       "pct_college_20       0.166560  0.163975  0.102418  0.218052  0.161560   \n",
       "unemployed_20        0.084000  0.100750  0.122333  0.079200  0.100000   \n",
       "pct_none_20          0.355620  0.372563  0.396478  0.383261  0.360187   \n",
       "\n",
       "kmeans_label_20             5  variance  \n",
       "income_20            0.617189  0.021195  \n",
       "pct_foreign_born_20  0.206201  0.011258  \n",
       "pct_hispanic_20      0.194790  0.009798  \n",
       "pct_rep_20           0.137578  0.009225  \n",
       "pct_dem_20           0.483669  0.008729  \n",
       "pct_black_20         0.252913  0.006124  \n",
       "pct_asian_20         0.075615  0.001917  \n",
       "pct_college_20       0.145772  0.001390  \n",
       "unemployed_20        0.093667  0.000232  \n",
       "pct_none_20          0.378753  0.000229  "
      ]
     },
     "execution_count": 62,
     "metadata": {},
     "output_type": "execute_result"
    }
   ],
   "source": [
    "## how do the various clusters vary across each row?\n",
    "cluster_feature_averages_20['variance'] = cluster_feature_averages_20.apply(lambda x: x.var(), axis=1)\n",
    "cluster_feature_averages_20.sort_values('variance', ascending = False)"
   ]
  },
  {
   "cell_type": "markdown",
   "id": "b1007a7e",
   "metadata": {},
   "source": [
    "### 2024"
   ]
  },
  {
   "cell_type": "code",
   "execution_count": 63,
   "id": "13a40efe",
   "metadata": {},
   "outputs": [],
   "source": [
    "## identify the indicators we want to analyze\n",
    "features_2024 = [\n",
    "    'pct_college_24',\n",
    "    'pct_hispanic_24',\n",
    "    'pct_black_24',\n",
    "    'pct_asian_24',\n",
    "    'pct_rep_24',\n",
    "    'pct_dem_24',\n",
    "    'pct_none_24',\n",
    "    'pct_foreign_born_24',\n",
    "    'unemployed_24',\n",
    "    'income_24'\n",
    "]"
   ]
  },
  {
   "cell_type": "code",
   "execution_count": 64,
   "id": "87e29267",
   "metadata": {},
   "outputs": [],
   "source": [
    "## create an empty array to write the kmeans to\n",
    "inertias = []"
   ]
  },
  {
   "cell_type": "code",
   "execution_count": 65,
   "id": "c83919cc",
   "metadata": {},
   "outputs": [
    {
     "name": "stderr",
     "output_type": "stream",
     "text": [
      "/Users/miahollie/anaconda3/lib/python3.11/site-packages/sklearn/cluster/_kmeans.py:1412: FutureWarning: The default value of `n_init` will change from 10 to 'auto' in 1.4. Set the value of `n_init` explicitly to suppress the warning\n",
      "  super()._check_params_vs_input(X, default_n_init=10)\n",
      "/Users/miahollie/anaconda3/lib/python3.11/site-packages/sklearn/cluster/_kmeans.py:1412: FutureWarning: The default value of `n_init` will change from 10 to 'auto' in 1.4. Set the value of `n_init` explicitly to suppress the warning\n",
      "  super()._check_params_vs_input(X, default_n_init=10)\n",
      "/Users/miahollie/anaconda3/lib/python3.11/site-packages/sklearn/cluster/_kmeans.py:1412: FutureWarning: The default value of `n_init` will change from 10 to 'auto' in 1.4. Set the value of `n_init` explicitly to suppress the warning\n",
      "  super()._check_params_vs_input(X, default_n_init=10)\n",
      "/Users/miahollie/anaconda3/lib/python3.11/site-packages/sklearn/cluster/_kmeans.py:1412: FutureWarning: The default value of `n_init` will change from 10 to 'auto' in 1.4. Set the value of `n_init` explicitly to suppress the warning\n",
      "  super()._check_params_vs_input(X, default_n_init=10)\n",
      "/Users/miahollie/anaconda3/lib/python3.11/site-packages/sklearn/cluster/_kmeans.py:1412: FutureWarning: The default value of `n_init` will change from 10 to 'auto' in 1.4. Set the value of `n_init` explicitly to suppress the warning\n",
      "  super()._check_params_vs_input(X, default_n_init=10)\n",
      "/Users/miahollie/anaconda3/lib/python3.11/site-packages/sklearn/cluster/_kmeans.py:1412: FutureWarning: The default value of `n_init` will change from 10 to 'auto' in 1.4. Set the value of `n_init` explicitly to suppress the warning\n",
      "  super()._check_params_vs_input(X, default_n_init=10)\n",
      "/Users/miahollie/anaconda3/lib/python3.11/site-packages/sklearn/cluster/_kmeans.py:1412: FutureWarning: The default value of `n_init` will change from 10 to 'auto' in 1.4. Set the value of `n_init` explicitly to suppress the warning\n",
      "  super()._check_params_vs_input(X, default_n_init=10)\n",
      "/Users/miahollie/anaconda3/lib/python3.11/site-packages/sklearn/cluster/_kmeans.py:1412: FutureWarning: The default value of `n_init` will change from 10 to 'auto' in 1.4. Set the value of `n_init` explicitly to suppress the warning\n",
      "  super()._check_params_vs_input(X, default_n_init=10)\n",
      "/Users/miahollie/anaconda3/lib/python3.11/site-packages/sklearn/cluster/_kmeans.py:1412: FutureWarning: The default value of `n_init` will change from 10 to 'auto' in 1.4. Set the value of `n_init` explicitly to suppress the warning\n",
      "  super()._check_params_vs_input(X, default_n_init=10)\n"
     ]
    }
   ],
   "source": [
    "for i in range(1,10): # <-- loop through...\n",
    "    kmeans = KMeans(n_clusters=i) # <-- assign every \"i\" in the loop to n_clusters, perform kmeans on each\n",
    "    kmeans.fit(combined_geo[features_2024]) # <-- fit the model to each feature\n",
    "    inertias.append(kmeans.inertia_) # <-- measure how well the dataset was clustered by kmeans"
   ]
  },
  {
   "cell_type": "code",
   "execution_count": 66,
   "id": "0ddbac97",
   "metadata": {},
   "outputs": [
    {
     "data": {
      "image/png": "[encoded data removed]",
      "text/plain": [
       "<Figure size 640x480 with 1 Axes>"
      ]
     },
     "metadata": {},
     "output_type": "display_data"
    }
   ],
   "source": [
    "## plot the clusters and their inertia\n",
    "## use the 'elbow' method to find where the line starts to even out\n",
    "plt.plot(range(1,10), inertias, marker='o')\n",
    "plt.title('Clusters vs. Inertia 2024')\n",
    "plt.show()"
   ]
  },
  {
   "cell_type": "code",
   "execution_count": 67,
   "id": "f89030a2",
   "metadata": {},
   "outputs": [
    {
     "name": "stderr",
     "output_type": "stream",
     "text": [
      "/Users/miahollie/anaconda3/lib/python3.11/site-packages/sklearn/cluster/_kmeans.py:1412: FutureWarning: The default value of `n_init` will change from 10 to 'auto' in 1.4. Set the value of `n_init` explicitly to suppress the warning\n",
      "  super()._check_params_vs_input(X, default_n_init=10)\n"
     ]
    },
    {
     "data": {
      "text/html": [
       "<style>#sk-container-id-5 {color: black;}#sk-container-id-5 pre{padding: 0;}#sk-container-id-5 div.sk-toggleable {background-color: white;}#sk-container-id-5 label.sk-toggleable__label {cursor: pointer;display: block;width: 100%;margin-bottom: 0;padding: 0.3em;box-sizing: border-box;text-align: center;}#sk-container-id-5 label.sk-toggleable__label-arrow:before {content: \"▸\";float: left;margin-right: 0.25em;color: #696969;}#sk-container-id-5 label.sk-toggleable__label-arrow:hover:before {color: black;}#sk-container-id-5 div.sk-estimator:hover label.sk-toggleable__label-arrow:before {color: black;}#sk-container-id-5 div.sk-toggleable__content {max-height: 0;max-width: 0;overflow: hidden;text-align: left;background-color: #f0f8ff;}#sk-container-id-5 div.sk-toggleable__content pre {margin: 0.2em;color: black;border-radius: 0.25em;background-color: #f0f8ff;}#sk-container-id-5 input.sk-toggleable__control:checked~div.sk-toggleable__content {max-height: 200px;max-width: 100%;overflow: auto;}#sk-container-id-5 input.sk-toggleable__control:checked~label.sk-toggleable__label-arrow:before {content: \"▾\";}#sk-container-id-5 div.sk-estimator input.sk-toggleable__control:checked~label.sk-toggleable__label {background-color: #d4ebff;}#sk-container-id-5 div.sk-label input.sk-toggleable__control:checked~label.sk-toggleable__label {background-color: #d4ebff;}#sk-container-id-5 input.sk-hidden--visually {border: 0;clip: rect(1px 1px 1px 1px);clip: rect(1px, 1px, 1px, 1px);height: 1px;margin: -1px;overflow: hidden;padding: 0;position: absolute;width: 1px;}#sk-container-id-5 div.sk-estimator {font-family: monospace;background-color: #f0f8ff;border: 1px dotted black;border-radius: 0.25em;box-sizing: border-box;margin-bottom: 0.5em;}#sk-container-id-5 div.sk-estimator:hover {background-color: #d4ebff;}#sk-container-id-5 div.sk-parallel-item::after {content: \"\";width: 100%;border-bottom: 1px solid gray;flex-grow: 1;}#sk-container-id-5 div.sk-label:hover label.sk-toggleable__label {background-color: #d4ebff;}#sk-container-id-5 div.sk-serial::before {content: \"\";position: absolute;border-left: 1px solid gray;box-sizing: border-box;top: 0;bottom: 0;left: 50%;z-index: 0;}#sk-container-id-5 div.sk-serial {display: flex;flex-direction: column;align-items: center;background-color: white;padding-right: 0.2em;padding-left: 0.2em;position: relative;}#sk-container-id-5 div.sk-item {position: relative;z-index: 1;}#sk-container-id-5 div.sk-parallel {display: flex;align-items: stretch;justify-content: center;background-color: white;position: relative;}#sk-container-id-5 div.sk-item::before, #sk-container-id-5 div.sk-parallel-item::before {content: \"\";position: absolute;border-left: 1px solid gray;box-sizing: border-box;top: 0;bottom: 0;left: 50%;z-index: -1;}#sk-container-id-5 div.sk-parallel-item {display: flex;flex-direction: column;z-index: 1;position: relative;background-color: white;}#sk-container-id-5 div.sk-parallel-item:first-child::after {align-self: flex-end;width: 50%;}#sk-container-id-5 div.sk-parallel-item:last-child::after {align-self: flex-start;width: 50%;}#sk-container-id-5 div.sk-parallel-item:only-child::after {width: 0;}#sk-container-id-5 div.sk-dashed-wrapped {border: 1px dashed gray;margin: 0 0.4em 0.5em 0.4em;box-sizing: border-box;padding-bottom: 0.4em;background-color: white;}#sk-container-id-5 div.sk-label label {font-family: monospace;font-weight: bold;display: inline-block;line-height: 1.2em;}#sk-container-id-5 div.sk-label-container {text-align: center;}#sk-container-id-5 div.sk-container {/* jupyter's `normalize.less` sets `[hidden] { display: none; }` but bootstrap.min.css set `[hidden] { display: none !important; }` so we also need the `!important` here to be able to override the default hidden behavior on the sphinx rendered scikit-learn.org. See: https://github.com/scikit-learn/scikit-learn/issues/21755 */display: inline-block !important;position: relative;}#sk-container-id-5 div.sk-text-repr-fallback {display: none;}</style><div id=\"sk-container-id-5\" class=\"sk-top-container\"><div class=\"sk-text-repr-fallback\"><pre>KMeans(n_clusters=6, random_state=42)</pre><b>In a Jupyter environment, please rerun this cell to show the HTML representation or trust the notebook. <br />On GitHub, the HTML representation is unable to render, please try loading this page with nbviewer.org.</b></div><div class=\"sk-container\" hidden><div class=\"sk-item\"><div class=\"sk-estimator sk-toggleable\"><input class=\"sk-toggleable__control sk-hidden--visually\" id=\"sk-estimator-id-5\" type=\"checkbox\" checked><label for=\"sk-estimator-id-5\" class=\"sk-toggleable__label sk-toggleable__label-arrow\">KMeans</label><div class=\"sk-toggleable__content\"><pre>KMeans(n_clusters=6, random_state=42)</pre></div></div></div></div></div>"
      ],
      "text/plain": [
       "KMeans(n_clusters=6, random_state=42)"
      ]
     },
     "execution_count": 67,
     "metadata": {},
     "output_type": "execute_result"
    }
   ],
   "source": [
    "## the line started to even out around 6\n",
    "kmeans = KMeans(n_clusters=6, random_state=42) # <-- create 6 clusters, use a random state\n",
    "kmeans.fit(combined_geo[features_2024]) # <-- fit the model to the '12 features"
   ]
  },
  {
   "cell_type": "code",
   "execution_count": 68,
   "id": "768b1cfe",
   "metadata": {},
   "outputs": [],
   "source": [
    "## create a new column to store the kmeans labels\n",
    "combined_geo['kmeans_label_24'] = kmeans.labels_"
   ]
  },
  {
   "cell_type": "code",
   "execution_count": 69,
   "id": "3daefae4",
   "metadata": {},
   "outputs": [
    {
     "data": {
      "text/plain": [
       "kmeans_label_24\n",
       "1    6\n",
       "2    4\n",
       "4    3\n",
       "0    3\n",
       "5    3\n",
       "3    2\n",
       "Name: count, dtype: int64"
      ]
     },
     "execution_count": 69,
     "metadata": {},
     "output_type": "execute_result"
    }
   ],
   "source": [
    "## count the number of counties in each kmeans category\n",
    "combined_geo['kmeans_label_24'].value_counts()"
   ]
  },
  {
   "cell_type": "code",
   "execution_count": 70,
   "id": "1b461c44",
   "metadata": {},
   "outputs": [
    {
     "data": {
      "text/plain": [
       "<Axes: >"
      ]
     },
     "execution_count": 70,
     "metadata": {},
     "output_type": "execute_result"
    },
    {
     "data": {
      "image/png": "[encoded data removed]",
      "text/plain": [
       "<Figure size 640x480 with 2 Axes>"
      ]
     },
     "metadata": {},
     "output_type": "display_data"
    }
   ],
   "source": [
    "## plot the kmeans labels on the counties map we created earlier\n",
    "combined_geo.plot(\n",
    "    column = \"kmeans_label_24\",\n",
    "    cmap = \"Paired\",\n",
    "    legend = True)"
   ]
  },
  {
   "cell_type": "code",
   "execution_count": 71,
   "id": "0a9b2588",
   "metadata": {},
   "outputs": [
    {
     "data": {
      "text/html": [
       "<div>\n",
       "<style scoped>\n",
       "    .dataframe tbody tr th:only-of-type {\n",
       "        vertical-align: middle;\n",
       "    }\n",
       "\n",
       "    .dataframe tbody tr th {\n",
       "        vertical-align: top;\n",
       "    }\n",
       "\n",
       "    .dataframe thead th {\n",
       "        text-align: right;\n",
       "    }\n",
       "</style>\n",
       "<table border=\"1\" class=\"dataframe\">\n",
       "  <thead>\n",
       "    <tr style=\"text-align: right;\">\n",
       "      <th>kmeans_label_24</th>\n",
       "      <th>0</th>\n",
       "      <th>1</th>\n",
       "      <th>2</th>\n",
       "      <th>3</th>\n",
       "      <th>4</th>\n",
       "      <th>5</th>\n",
       "    </tr>\n",
       "  </thead>\n",
       "  <tbody>\n",
       "    <tr>\n",
       "      <th>pct_college_24</th>\n",
       "      <td>0.206332</td>\n",
       "      <td>0.170013</td>\n",
       "      <td>0.151963</td>\n",
       "      <td>0.166274</td>\n",
       "      <td>0.107212</td>\n",
       "      <td>0.227702</td>\n",
       "    </tr>\n",
       "    <tr>\n",
       "      <th>pct_hispanic_24</th>\n",
       "      <td>0.197747</td>\n",
       "      <td>0.091566</td>\n",
       "      <td>0.236168</td>\n",
       "      <td>0.428139</td>\n",
       "      <td>0.208348</td>\n",
       "      <td>0.108852</td>\n",
       "    </tr>\n",
       "    <tr>\n",
       "      <th>pct_black_24</th>\n",
       "      <td>0.079760</td>\n",
       "      <td>0.065607</td>\n",
       "      <td>0.234246</td>\n",
       "      <td>0.102380</td>\n",
       "      <td>0.147294</td>\n",
       "      <td>0.038841</td>\n",
       "    </tr>\n",
       "    <tr>\n",
       "      <th>pct_asian_24</th>\n",
       "      <td>0.201281</td>\n",
       "      <td>0.026576</td>\n",
       "      <td>0.072947</td>\n",
       "      <td>0.105562</td>\n",
       "      <td>0.033420</td>\n",
       "      <td>0.068338</td>\n",
       "    </tr>\n",
       "    <tr>\n",
       "      <th>pct_rep_24</th>\n",
       "      <td>0.223416</td>\n",
       "      <td>0.374879</td>\n",
       "      <td>0.153767</td>\n",
       "      <td>0.173873</td>\n",
       "      <td>0.291635</td>\n",
       "      <td>0.358890</td>\n",
       "    </tr>\n",
       "    <tr>\n",
       "      <th>pct_dem_24</th>\n",
       "      <td>0.380796</td>\n",
       "      <td>0.284335</td>\n",
       "      <td>0.472089</td>\n",
       "      <td>0.459530</td>\n",
       "      <td>0.322186</td>\n",
       "      <td>0.289113</td>\n",
       "    </tr>\n",
       "    <tr>\n",
       "      <th>pct_none_24</th>\n",
       "      <td>0.395787</td>\n",
       "      <td>0.340786</td>\n",
       "      <td>0.374144</td>\n",
       "      <td>0.366597</td>\n",
       "      <td>0.386179</td>\n",
       "      <td>0.351998</td>\n",
       "    </tr>\n",
       "    <tr>\n",
       "      <th>pct_foreign_born_24</th>\n",
       "      <td>0.307844</td>\n",
       "      <td>0.078313</td>\n",
       "      <td>0.242480</td>\n",
       "      <td>0.375905</td>\n",
       "      <td>0.099753</td>\n",
       "      <td>0.143268</td>\n",
       "    </tr>\n",
       "    <tr>\n",
       "      <th>unemployed_24</th>\n",
       "      <td>0.043000</td>\n",
       "      <td>0.050500</td>\n",
       "      <td>0.051500</td>\n",
       "      <td>0.054000</td>\n",
       "      <td>0.064667</td>\n",
       "      <td>0.039667</td>\n",
       "    </tr>\n",
       "    <tr>\n",
       "      <th>income_24</th>\n",
       "      <td>0.888333</td>\n",
       "      <td>0.714233</td>\n",
       "      <td>0.643070</td>\n",
       "      <td>0.641481</td>\n",
       "      <td>0.521218</td>\n",
       "      <td>0.955734</td>\n",
       "    </tr>\n",
       "  </tbody>\n",
       "</table>\n",
       "</div>"
      ],
      "text/plain": [
       "kmeans_label_24             0         1         2         3         4  \\\n",
       "pct_college_24       0.206332  0.170013  0.151963  0.166274  0.107212   \n",
       "pct_hispanic_24      0.197747  0.091566  0.236168  0.428139  0.208348   \n",
       "pct_black_24         0.079760  0.065607  0.234246  0.102380  0.147294   \n",
       "pct_asian_24         0.201281  0.026576  0.072947  0.105562  0.033420   \n",
       "pct_rep_24           0.223416  0.374879  0.153767  0.173873  0.291635   \n",
       "pct_dem_24           0.380796  0.284335  0.472089  0.459530  0.322186   \n",
       "pct_none_24          0.395787  0.340786  0.374144  0.366597  0.386179   \n",
       "pct_foreign_born_24  0.307844  0.078313  0.242480  0.375905  0.099753   \n",
       "unemployed_24        0.043000  0.050500  0.051500  0.054000  0.064667   \n",
       "income_24            0.888333  0.714233  0.643070  0.641481  0.521218   \n",
       "\n",
       "kmeans_label_24             5  \n",
       "pct_college_24       0.227702  \n",
       "pct_hispanic_24      0.108852  \n",
       "pct_black_24         0.038841  \n",
       "pct_asian_24         0.068338  \n",
       "pct_rep_24           0.358890  \n",
       "pct_dem_24           0.289113  \n",
       "pct_none_24          0.351998  \n",
       "pct_foreign_born_24  0.143268  \n",
       "unemployed_24        0.039667  \n",
       "income_24            0.955734  "
      ]
     },
     "execution_count": 71,
     "metadata": {},
     "output_type": "execute_result"
    }
   ],
   "source": [
    "## what do the clusters look like? \n",
    "cluster_feature_averages_24 = combined_geo.groupby('kmeans_label_24')[features_2024].mean().T\n",
    "cluster_feature_averages_24"
   ]
  },
  {
   "cell_type": "code",
   "execution_count": 72,
   "id": "8d5520e9",
   "metadata": {},
   "outputs": [
    {
     "data": {
      "text/html": [
       "<div>\n",
       "<style scoped>\n",
       "    .dataframe tbody tr th:only-of-type {\n",
       "        vertical-align: middle;\n",
       "    }\n",
       "\n",
       "    .dataframe tbody tr th {\n",
       "        vertical-align: top;\n",
       "    }\n",
       "\n",
       "    .dataframe thead th {\n",
       "        text-align: right;\n",
       "    }\n",
       "</style>\n",
       "<table border=\"1\" class=\"dataframe\">\n",
       "  <thead>\n",
       "    <tr style=\"text-align: right;\">\n",
       "      <th>kmeans_label_24</th>\n",
       "      <th>0</th>\n",
       "      <th>1</th>\n",
       "      <th>2</th>\n",
       "      <th>3</th>\n",
       "      <th>4</th>\n",
       "      <th>5</th>\n",
       "      <th>variance</th>\n",
       "    </tr>\n",
       "  </thead>\n",
       "  <tbody>\n",
       "    <tr>\n",
       "      <th>income_24</th>\n",
       "      <td>0.888333</td>\n",
       "      <td>0.714233</td>\n",
       "      <td>0.643070</td>\n",
       "      <td>0.641481</td>\n",
       "      <td>0.521218</td>\n",
       "      <td>0.955734</td>\n",
       "      <td>0.027043</td>\n",
       "    </tr>\n",
       "    <tr>\n",
       "      <th>pct_hispanic_24</th>\n",
       "      <td>0.197747</td>\n",
       "      <td>0.091566</td>\n",
       "      <td>0.236168</td>\n",
       "      <td>0.428139</td>\n",
       "      <td>0.208348</td>\n",
       "      <td>0.108852</td>\n",
       "      <td>0.014532</td>\n",
       "    </tr>\n",
       "    <tr>\n",
       "      <th>pct_foreign_born_24</th>\n",
       "      <td>0.307844</td>\n",
       "      <td>0.078313</td>\n",
       "      <td>0.242480</td>\n",
       "      <td>0.375905</td>\n",
       "      <td>0.099753</td>\n",
       "      <td>0.143268</td>\n",
       "      <td>0.014415</td>\n",
       "    </tr>\n",
       "    <tr>\n",
       "      <th>pct_rep_24</th>\n",
       "      <td>0.223416</td>\n",
       "      <td>0.374879</td>\n",
       "      <td>0.153767</td>\n",
       "      <td>0.173873</td>\n",
       "      <td>0.291635</td>\n",
       "      <td>0.358890</td>\n",
       "      <td>0.008795</td>\n",
       "    </tr>\n",
       "    <tr>\n",
       "      <th>pct_dem_24</th>\n",
       "      <td>0.380796</td>\n",
       "      <td>0.284335</td>\n",
       "      <td>0.472089</td>\n",
       "      <td>0.459530</td>\n",
       "      <td>0.322186</td>\n",
       "      <td>0.289113</td>\n",
       "      <td>0.006940</td>\n",
       "    </tr>\n",
       "    <tr>\n",
       "      <th>pct_black_24</th>\n",
       "      <td>0.079760</td>\n",
       "      <td>0.065607</td>\n",
       "      <td>0.234246</td>\n",
       "      <td>0.102380</td>\n",
       "      <td>0.147294</td>\n",
       "      <td>0.038841</td>\n",
       "      <td>0.004965</td>\n",
       "    </tr>\n",
       "    <tr>\n",
       "      <th>pct_asian_24</th>\n",
       "      <td>0.201281</td>\n",
       "      <td>0.026576</td>\n",
       "      <td>0.072947</td>\n",
       "      <td>0.105562</td>\n",
       "      <td>0.033420</td>\n",
       "      <td>0.068338</td>\n",
       "      <td>0.004088</td>\n",
       "    </tr>\n",
       "    <tr>\n",
       "      <th>pct_college_24</th>\n",
       "      <td>0.206332</td>\n",
       "      <td>0.170013</td>\n",
       "      <td>0.151963</td>\n",
       "      <td>0.166274</td>\n",
       "      <td>0.107212</td>\n",
       "      <td>0.227702</td>\n",
       "      <td>0.001783</td>\n",
       "    </tr>\n",
       "    <tr>\n",
       "      <th>pct_none_24</th>\n",
       "      <td>0.395787</td>\n",
       "      <td>0.340786</td>\n",
       "      <td>0.374144</td>\n",
       "      <td>0.366597</td>\n",
       "      <td>0.386179</td>\n",
       "      <td>0.351998</td>\n",
       "      <td>0.000426</td>\n",
       "    </tr>\n",
       "    <tr>\n",
       "      <th>unemployed_24</th>\n",
       "      <td>0.043000</td>\n",
       "      <td>0.050500</td>\n",
       "      <td>0.051500</td>\n",
       "      <td>0.054000</td>\n",
       "      <td>0.064667</td>\n",
       "      <td>0.039667</td>\n",
       "      <td>0.000078</td>\n",
       "    </tr>\n",
       "  </tbody>\n",
       "</table>\n",
       "</div>"
      ],
      "text/plain": [
       "kmeans_label_24             0         1         2         3         4  \\\n",
       "income_24            0.888333  0.714233  0.643070  0.641481  0.521218   \n",
       "pct_hispanic_24      0.197747  0.091566  0.236168  0.428139  0.208348   \n",
       "pct_foreign_born_24  0.307844  0.078313  0.242480  0.375905  0.099753   \n",
       "pct_rep_24           0.223416  0.374879  0.153767  0.173873  0.291635   \n",
       "pct_dem_24           0.380796  0.284335  0.472089  0.459530  0.322186   \n",
       "pct_black_24         0.079760  0.065607  0.234246  0.102380  0.147294   \n",
       "pct_asian_24         0.201281  0.026576  0.072947  0.105562  0.033420   \n",
       "pct_college_24       0.206332  0.170013  0.151963  0.166274  0.107212   \n",
       "pct_none_24          0.395787  0.340786  0.374144  0.366597  0.386179   \n",
       "unemployed_24        0.043000  0.050500  0.051500  0.054000  0.064667   \n",
       "\n",
       "kmeans_label_24             5  variance  \n",
       "income_24            0.955734  0.027043  \n",
       "pct_hispanic_24      0.108852  0.014532  \n",
       "pct_foreign_born_24  0.143268  0.014415  \n",
       "pct_rep_24           0.358890  0.008795  \n",
       "pct_dem_24           0.289113  0.006940  \n",
       "pct_black_24         0.038841  0.004965  \n",
       "pct_asian_24         0.068338  0.004088  \n",
       "pct_college_24       0.227702  0.001783  \n",
       "pct_none_24          0.351998  0.000426  \n",
       "unemployed_24        0.039667  0.000078  "
      ]
     },
     "execution_count": 72,
     "metadata": {},
     "output_type": "execute_result"
    }
   ],
   "source": [
    "## how do the various clusters vary across each row?\n",
    "cluster_feature_averages_24['variance'] = cluster_feature_averages_24.apply(lambda x: x.var(), axis=1)\n",
    "cluster_feature_averages_24.sort_values('variance', ascending = False)"
   ]
  },
  {
   "cell_type": "code",
   "execution_count": null,
   "id": "556da717",
   "metadata": {},
   "outputs": [],
   "source": []
  },
  {
   "cell_type": "code",
   "execution_count": null,
   "id": "6a8047f6",
   "metadata": {},
   "outputs": [],
   "source": []
  }
 ],
 "metadata": {
  "kernelspec": {
   "display_name": "Python 3 (ipykernel)",
   "language": "python",
   "name": "python3"
  },
  "language_info": {
   "codemirror_mode": {
    "name": "ipython",
    "version": 3
   },
   "file_extension": ".py",
   "mimetype": "text/x-python",
   "name": "python",
   "nbconvert_exporter": "python",
   "pygments_lexer": "ipython3",
   "version": "3.11.5"
  }
 },
 "nbformat": 4,
 "nbformat_minor": 5
}
